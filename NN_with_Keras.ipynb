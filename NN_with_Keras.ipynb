{
  "nbformat": 4,
  "nbformat_minor": 0,
  "metadata": {
    "colab": {
      "name": "NN_with_Keras.ipynb",
      "provenance": [],
      "collapsed_sections": [
        "u9_z1t70xC41"
      ]
    },
    "kernelspec": {
      "name": "python3",
      "display_name": "Python 3"
    }
  },
  "cells": [
    {
      "cell_type": "code",
      "metadata": {
        "id": "EDpfhPobwha6",
        "colab_type": "code",
        "colab": {}
      },
      "source": [
        "import tensorflow as tf\n",
        "from tensorflow import keras\n",
        "import pandas as pd\n",
        "import matplotlib.pyplot as plt\n",
        "import numpy as np\n",
        "from sklearn.datasets import fetch_california_housing\n",
        "from sklearn.model_selection import train_test_split\n",
        "from sklearn.preprocessing import StandardScaler"
      ],
      "execution_count": 31,
      "outputs": []
    },
    {
      "cell_type": "code",
      "metadata": {
        "id": "4OaEnsKbwlGo",
        "colab_type": "code",
        "colab": {
          "base_uri": "https://localhost:8080/",
          "height": 35
        },
        "outputId": "5854f643-60ed-4cd5-ddb1-22b7ca02c98c"
      },
      "source": [
        "tf.__version__"
      ],
      "execution_count": 3,
      "outputs": [
        {
          "output_type": "execute_result",
          "data": {
            "application/vnd.google.colaboratory.intrinsic+json": {
              "type": "string"
            },
            "text/plain": [
              "'2.3.0'"
            ]
          },
          "metadata": {
            "tags": []
          },
          "execution_count": 3
        }
      ]
    },
    {
      "cell_type": "code",
      "metadata": {
        "id": "jfDdAC75w16i",
        "colab_type": "code",
        "colab": {
          "base_uri": "https://localhost:8080/",
          "height": 35
        },
        "outputId": "4fc39563-aab5-49e2-b64d-42130a2242d6"
      },
      "source": [
        "keras.__version__"
      ],
      "execution_count": 4,
      "outputs": [
        {
          "output_type": "execute_result",
          "data": {
            "application/vnd.google.colaboratory.intrinsic+json": {
              "type": "string"
            },
            "text/plain": [
              "'2.4.0'"
            ]
          },
          "metadata": {
            "tags": []
          },
          "execution_count": 4
        }
      ]
    },
    {
      "cell_type": "markdown",
      "metadata": {
        "id": "u9_z1t70xC41",
        "colab_type": "text"
      },
      "source": [
        "# **Image Classifier using the Sequential API**\n",
        "- Using Fashion MNIST"
      ]
    },
    {
      "cell_type": "code",
      "metadata": {
        "id": "vShsch6PxRwZ",
        "colab_type": "code",
        "colab": {
          "base_uri": "https://localhost:8080/",
          "height": 154
        },
        "outputId": "d7770d9f-54bc-446c-ba78-13ee7571a0bb"
      },
      "source": [
        "  #Loading the dataset\n",
        "  fashion_mnist = keras.datasets.fashion_mnist\n",
        "  (X_train_full, y_train_full), (X_test, y_test) = fashion_mnist.load_data()"
      ],
      "execution_count": 3,
      "outputs": [
        {
          "output_type": "stream",
          "text": [
            "Downloading data from https://storage.googleapis.com/tensorflow/tf-keras-datasets/train-labels-idx1-ubyte.gz\n",
            "32768/29515 [=================================] - 0s 0us/step\n",
            "Downloading data from https://storage.googleapis.com/tensorflow/tf-keras-datasets/train-images-idx3-ubyte.gz\n",
            "26427392/26421880 [==============================] - 0s 0us/step\n",
            "Downloading data from https://storage.googleapis.com/tensorflow/tf-keras-datasets/t10k-labels-idx1-ubyte.gz\n",
            "8192/5148 [===============================================] - 0s 0us/step\n",
            "Downloading data from https://storage.googleapis.com/tensorflow/tf-keras-datasets/t10k-images-idx3-ubyte.gz\n",
            "4423680/4422102 [==============================] - 0s 0us/step\n"
          ],
          "name": "stdout"
        }
      ]
    },
    {
      "cell_type": "code",
      "metadata": {
        "id": "LH8lpF0rzLZc",
        "colab_type": "code",
        "colab": {
          "base_uri": "https://localhost:8080/",
          "height": 34
        },
        "outputId": "b34a7c93-f8b2-4be7-c6d2-531780325ee8"
      },
      "source": [
        "X_train_full.shape, X_test.shape"
      ],
      "execution_count": 7,
      "outputs": [
        {
          "output_type": "execute_result",
          "data": {
            "text/plain": [
              "((60000, 28, 28), (10000, 28, 28))"
            ]
          },
          "metadata": {
            "tags": []
          },
          "execution_count": 7
        }
      ]
    },
    {
      "cell_type": "code",
      "metadata": {
        "id": "LJzUTPfWzUgL",
        "colab_type": "code",
        "colab": {}
      },
      "source": [
        "#Creating scaled validation and train sets\n",
        "X_val, X_train = X_train_full[:5000]/255.0, X_train_full[5000:] / 255.0\n",
        "y_val, y_train = y_train_full[:5000], y_train_full[5000:]\n",
        "X_test = X_test / 255.0"
      ],
      "execution_count": 21,
      "outputs": []
    },
    {
      "cell_type": "code",
      "metadata": {
        "id": "60fIzIMYzUmQ",
        "colab_type": "code",
        "colab": {}
      },
      "source": [
        "class_names = [\"T-shirt/top\", \"Trouser\", \"Pullover\", \"Dress\", \"Coat\",\"Sandal\", \"Shirt\", \"Sneaker\", \"Bag\", \"Ankle boot\"]"
      ],
      "execution_count": 5,
      "outputs": []
    },
    {
      "cell_type": "code",
      "metadata": {
        "id": "vI6so3ZdzUkW",
        "colab_type": "code",
        "colab": {
          "base_uri": "https://localhost:8080/",
          "height": 35
        },
        "outputId": "f557d085-6383-497d-8c93-bc749d42cdda"
      },
      "source": [
        "class_names[y_train[0]]"
      ],
      "execution_count": 6,
      "outputs": [
        {
          "output_type": "execute_result",
          "data": {
            "application/vnd.google.colaboratory.intrinsic+json": {
              "type": "string"
            },
            "text/plain": [
              "'Coat'"
            ]
          },
          "metadata": {
            "tags": []
          },
          "execution_count": 6
        }
      ]
    },
    {
      "cell_type": "markdown",
      "metadata": {
        "id": "NpH9IDVq0YBw",
        "colab_type": "text"
      },
      "source": [
        "- Creating the model"
      ]
    },
    {
      "cell_type": "code",
      "metadata": {
        "id": "Qwy3jZmR0cHw",
        "colab_type": "code",
        "colab": {}
      },
      "source": [
        "model = keras.models.Sequential([\n",
        "  keras.layers.Flatten(input_shape=[28,28]),\n",
        "  keras.layers.Dense(300, activation='relu'),\n",
        "  keras.layers.Dense(100, activation='relu'),\n",
        "  keras.layers.Dense(10, activation='softmax')\n",
        "])"
      ],
      "execution_count": 7,
      "outputs": []
    },
    {
      "cell_type": "markdown",
      "metadata": {
        "id": "qdKzbSdU2oa_",
        "colab_type": "text"
      },
      "source": [
        "### **Points to note:** \n",
        "- Sequential model provides a single stack of layers connected sequentially.\n",
        "- **Flatter layer** - 1st layer of the model.\n",
        "  - Converts each input image into a 1D array.\n",
        "  - i.e if it receives input data X , it computes X.reshape(-1, 1).\n",
        "  - can also use **keras.layers.InputLayer**.\n",
        "- **Dense Layer** - Manages own weight matrix (connection weights) of 300 neurons + bias neuron and the inputs.\n",
        "- **Output Layer (Dense)** - 10 neurons which predict the class using the softmax activation function."
      ]
    },
    {
      "cell_type": "code",
      "metadata": {
        "id": "ZfzdGoi94VTw",
        "colab_type": "code",
        "colab": {
          "base_uri": "https://localhost:8080/",
          "height": 291
        },
        "outputId": "78954af5-9469-451a-b57a-16c1d544de91"
      },
      "source": [
        "model.summary()"
      ],
      "execution_count": 8,
      "outputs": [
        {
          "output_type": "stream",
          "text": [
            "Model: \"sequential\"\n",
            "_________________________________________________________________\n",
            "Layer (type)                 Output Shape              Param #   \n",
            "=================================================================\n",
            "flatten (Flatten)            (None, 784)               0         \n",
            "_________________________________________________________________\n",
            "dense (Dense)                (None, 300)               235500    \n",
            "_________________________________________________________________\n",
            "dense_1 (Dense)              (None, 100)               30100     \n",
            "_________________________________________________________________\n",
            "dense_2 (Dense)              (None, 10)                1010      \n",
            "=================================================================\n",
            "Total params: 266,610\n",
            "Trainable params: 266,610\n",
            "Non-trainable params: 0\n",
            "_________________________________________________________________\n"
          ],
          "name": "stdout"
        }
      ]
    },
    {
      "cell_type": "code",
      "metadata": {
        "id": "SI1cbeST48qv",
        "colab_type": "code",
        "colab": {
          "base_uri": "https://localhost:8080/",
          "height": 85
        },
        "outputId": "bdf2dbab-a0a6-42d9-cabb-ddc217b7ef3f"
      },
      "source": [
        "model.layers"
      ],
      "execution_count": 9,
      "outputs": [
        {
          "output_type": "execute_result",
          "data": {
            "text/plain": [
              "[<tensorflow.python.keras.layers.core.Flatten at 0x7f98f9c44d68>,\n",
              " <tensorflow.python.keras.layers.core.Dense at 0x7f98f97e80b8>,\n",
              " <tensorflow.python.keras.layers.core.Dense at 0x7f98f97e8390>,\n",
              " <tensorflow.python.keras.layers.core.Dense at 0x7f98f9c44ef0>]"
            ]
          },
          "metadata": {
            "tags": []
          },
          "execution_count": 9
        }
      ]
    },
    {
      "cell_type": "code",
      "metadata": {
        "id": "rinmyVB848uF",
        "colab_type": "code",
        "colab": {
          "base_uri": "https://localhost:8080/",
          "height": 51
        },
        "outputId": "1dfc139a-b918-4a0b-abbe-77a0f2fcf29b"
      },
      "source": [
        "hidden2 = model.layers[2]\n",
        "print(hidden2.name)\n",
        "model.get_layer('dense_1') is hidden2"
      ],
      "execution_count": 10,
      "outputs": [
        {
          "output_type": "stream",
          "text": [
            "dense_1\n"
          ],
          "name": "stdout"
        },
        {
          "output_type": "execute_result",
          "data": {
            "text/plain": [
              "True"
            ]
          },
          "metadata": {
            "tags": []
          },
          "execution_count": 10
        }
      ]
    },
    {
      "cell_type": "code",
      "metadata": {
        "id": "wu58YoKM48o6",
        "colab_type": "code",
        "colab": {}
      },
      "source": [
        "weights, biases = hidden2.get_weights()"
      ],
      "execution_count": 11,
      "outputs": []
    },
    {
      "cell_type": "code",
      "metadata": {
        "id": "NISY4uGL5eZL",
        "colab_type": "code",
        "colab": {
          "base_uri": "https://localhost:8080/",
          "height": 240
        },
        "outputId": "2d24ceab-7cd2-48f7-b6a1-00e201041dde"
      },
      "source": [
        "weights\n",
        "#Weights randomly initialized to break symmetry"
      ],
      "execution_count": 12,
      "outputs": [
        {
          "output_type": "execute_result",
          "data": {
            "text/plain": [
              "array([[-0.02917467,  0.00286523, -0.10587546, ...,  0.11216355,\n",
              "        -0.11815788,  0.06023564],\n",
              "       [ 0.06502882,  0.02196876, -0.07664464, ...,  0.0979246 ,\n",
              "         0.02710102, -0.05366995],\n",
              "       [ 0.03592055,  0.12227464,  0.07437467, ..., -0.02456796,\n",
              "         0.0236944 , -0.02573381],\n",
              "       ...,\n",
              "       [-0.07869992, -0.11819616,  0.02355132, ..., -0.05917171,\n",
              "         0.02217358,  0.05246992],\n",
              "       [ 0.04570452, -0.08791241,  0.06829647, ...,  0.04619998,\n",
              "         0.0023229 ,  0.00632677],\n",
              "       [ 0.0850876 , -0.11626717,  0.02760143, ..., -0.06136406,\n",
              "         0.00590556, -0.063309  ]], dtype=float32)"
            ]
          },
          "metadata": {
            "tags": []
          },
          "execution_count": 12
        }
      ]
    },
    {
      "cell_type": "code",
      "metadata": {
        "id": "f2ydmGIv5edw",
        "colab_type": "code",
        "colab": {
          "base_uri": "https://localhost:8080/",
          "height": 34
        },
        "outputId": "bc7972e5-4480-4ac4-f1ed-7b42153a5ab8"
      },
      "source": [
        "weights.shape"
      ],
      "execution_count": 13,
      "outputs": [
        {
          "output_type": "execute_result",
          "data": {
            "text/plain": [
              "(300, 100)"
            ]
          },
          "metadata": {
            "tags": []
          },
          "execution_count": 13
        }
      ]
    },
    {
      "cell_type": "markdown",
      "metadata": {
        "id": "POTweJZ_6Gap",
        "colab_type": "text"
      },
      "source": [
        "- Compiling the model\n",
        "  - We use sparse_categorical_crossentropy since we have sparse labels i.e for each instance there is just a target class index (0-9)\n",
        "  - if we were using one-hot vectors (then we can use categorical_crossentropy)\n",
        "  - For binary classification, we can use binary_crossentropy loss"
      ]
    },
    {
      "cell_type": "code",
      "metadata": {
        "id": "hfECT6T75ebf",
        "colab_type": "code",
        "colab": {}
      },
      "source": [
        "model.compile(loss='sparse_categorical_crossentropy',\n",
        "              optimizer='sgd',\n",
        "              metrics=['accuracy'])"
      ],
      "execution_count": 14,
      "outputs": []
    },
    {
      "cell_type": "code",
      "metadata": {
        "id": "5wa2BuAYj07s",
        "colab_type": "code",
        "colab": {
          "base_uri": "https://localhost:8080/",
          "height": 1000
        },
        "outputId": "a6a8910f-b3e8-45a5-d8c4-dce5b1508624"
      },
      "source": [
        "hist = model.fit(X_train, y_train, epochs=30, validation_data=(X_val, y_val))"
      ],
      "execution_count": 15,
      "outputs": [
        {
          "output_type": "stream",
          "text": [
            "Epoch 1/30\n",
            "1719/1719 [==============================] - 6s 3ms/step - loss: 0.7382 - accuracy: 0.7586 - val_loss: 0.5186 - val_accuracy: 0.8268\n",
            "Epoch 2/30\n",
            "1719/1719 [==============================] - 5s 3ms/step - loss: 0.4912 - accuracy: 0.8295 - val_loss: 0.4732 - val_accuracy: 0.8290\n",
            "Epoch 3/30\n",
            "1719/1719 [==============================] - 5s 3ms/step - loss: 0.4462 - accuracy: 0.8435 - val_loss: 0.4186 - val_accuracy: 0.8582\n",
            "Epoch 4/30\n",
            "1719/1719 [==============================] - 5s 3ms/step - loss: 0.4175 - accuracy: 0.8535 - val_loss: 0.4231 - val_accuracy: 0.8522\n",
            "Epoch 5/30\n",
            "1719/1719 [==============================] - 5s 3ms/step - loss: 0.3965 - accuracy: 0.8612 - val_loss: 0.4003 - val_accuracy: 0.8612\n",
            "Epoch 6/30\n",
            "1719/1719 [==============================] - 5s 3ms/step - loss: 0.3803 - accuracy: 0.8663 - val_loss: 0.3708 - val_accuracy: 0.8694\n",
            "Epoch 7/30\n",
            "1719/1719 [==============================] - 5s 3ms/step - loss: 0.3670 - accuracy: 0.8702 - val_loss: 0.3784 - val_accuracy: 0.8688\n",
            "Epoch 8/30\n",
            "1719/1719 [==============================] - 5s 3ms/step - loss: 0.3548 - accuracy: 0.8746 - val_loss: 0.3808 - val_accuracy: 0.8646\n",
            "Epoch 9/30\n",
            "1719/1719 [==============================] - 5s 3ms/step - loss: 0.3457 - accuracy: 0.8762 - val_loss: 0.3591 - val_accuracy: 0.8760\n",
            "Epoch 10/30\n",
            "1719/1719 [==============================] - 5s 3ms/step - loss: 0.3347 - accuracy: 0.8805 - val_loss: 0.3475 - val_accuracy: 0.8760\n",
            "Epoch 11/30\n",
            "1719/1719 [==============================] - 5s 3ms/step - loss: 0.3277 - accuracy: 0.8829 - val_loss: 0.3375 - val_accuracy: 0.8794\n",
            "Epoch 12/30\n",
            "1719/1719 [==============================] - 5s 3ms/step - loss: 0.3196 - accuracy: 0.8851 - val_loss: 0.3494 - val_accuracy: 0.8802\n",
            "Epoch 13/30\n",
            "1719/1719 [==============================] - 5s 3ms/step - loss: 0.3127 - accuracy: 0.8877 - val_loss: 0.3399 - val_accuracy: 0.8786\n",
            "Epoch 14/30\n",
            "1719/1719 [==============================] - 5s 3ms/step - loss: 0.3051 - accuracy: 0.8905 - val_loss: 0.3261 - val_accuracy: 0.8836\n",
            "Epoch 15/30\n",
            "1719/1719 [==============================] - 5s 3ms/step - loss: 0.2988 - accuracy: 0.8913 - val_loss: 0.3272 - val_accuracy: 0.8832\n",
            "Epoch 16/30\n",
            "1719/1719 [==============================] - 5s 3ms/step - loss: 0.2937 - accuracy: 0.8933 - val_loss: 0.3130 - val_accuracy: 0.8894\n",
            "Epoch 17/30\n",
            "1719/1719 [==============================] - 5s 3ms/step - loss: 0.2873 - accuracy: 0.8972 - val_loss: 0.3181 - val_accuracy: 0.8838\n",
            "Epoch 18/30\n",
            "1719/1719 [==============================] - 5s 3ms/step - loss: 0.2816 - accuracy: 0.8976 - val_loss: 0.3545 - val_accuracy: 0.8686\n",
            "Epoch 19/30\n",
            "1719/1719 [==============================] - 5s 3ms/step - loss: 0.2770 - accuracy: 0.8991 - val_loss: 0.3076 - val_accuracy: 0.8900\n",
            "Epoch 20/30\n",
            "1719/1719 [==============================] - 5s 3ms/step - loss: 0.2722 - accuracy: 0.9002 - val_loss: 0.3094 - val_accuracy: 0.8912\n",
            "Epoch 21/30\n",
            "1719/1719 [==============================] - 5s 3ms/step - loss: 0.2677 - accuracy: 0.9029 - val_loss: 0.3048 - val_accuracy: 0.8912\n",
            "Epoch 22/30\n",
            "1719/1719 [==============================] - 5s 3ms/step - loss: 0.2629 - accuracy: 0.9050 - val_loss: 0.3074 - val_accuracy: 0.8906\n",
            "Epoch 23/30\n",
            "1719/1719 [==============================] - 5s 3ms/step - loss: 0.2578 - accuracy: 0.9075 - val_loss: 0.3221 - val_accuracy: 0.8842\n",
            "Epoch 24/30\n",
            "1719/1719 [==============================] - 5s 3ms/step - loss: 0.2536 - accuracy: 0.9079 - val_loss: 0.3161 - val_accuracy: 0.8846\n",
            "Epoch 25/30\n",
            "1719/1719 [==============================] - 5s 3ms/step - loss: 0.2490 - accuracy: 0.9103 - val_loss: 0.3028 - val_accuracy: 0.8890\n",
            "Epoch 26/30\n",
            "1719/1719 [==============================] - 5s 3ms/step - loss: 0.2453 - accuracy: 0.9105 - val_loss: 0.3031 - val_accuracy: 0.8924\n",
            "Epoch 27/30\n",
            "1719/1719 [==============================] - 5s 3ms/step - loss: 0.2416 - accuracy: 0.9121 - val_loss: 0.3085 - val_accuracy: 0.8864\n",
            "Epoch 28/30\n",
            "1719/1719 [==============================] - 5s 3ms/step - loss: 0.2379 - accuracy: 0.9139 - val_loss: 0.2989 - val_accuracy: 0.8920\n",
            "Epoch 29/30\n",
            "1719/1719 [==============================] - 5s 3ms/step - loss: 0.2334 - accuracy: 0.9152 - val_loss: 0.3032 - val_accuracy: 0.8902\n",
            "Epoch 30/30\n",
            "1719/1719 [==============================] - 5s 3ms/step - loss: 0.2302 - accuracy: 0.9172 - val_loss: 0.3061 - val_accuracy: 0.8930\n"
          ],
          "name": "stdout"
        }
      ]
    },
    {
      "cell_type": "markdown",
      "metadata": {
        "id": "EcGmwI9ilU3P",
        "colab_type": "text"
      },
      "source": [
        "- *class_weight* param in fit() can help give a larger weight to underrepresented classes and a lower weight to overrepresented classes.\n",
        "  - These weights are used by Keras when computing the loss"
      ]
    },
    {
      "cell_type": "code",
      "metadata": {
        "id": "sJpN5T0UnIv6",
        "colab_type": "code",
        "colab": {
          "base_uri": "https://localhost:8080/",
          "height": 324
        },
        "outputId": "3687a551-daed-4476-fa06-cc9b5dc30e09"
      },
      "source": [
        "pd.DataFrame(hist.history).plot(figsize=(8, 5)) #hist.history contains the loss and other extra metrics. Can plot the learning curves with this.\n",
        "plt.grid(True)\n",
        "plt.gca().set_ylim(0, 1)\n",
        "plt.show()"
      ],
      "execution_count": 19,
      "outputs": [
        {
          "output_type": "display_data",
          "data": {
            "image/png": "[encoded data removed]",
            "text/plain": [
              "<Figure size 576x360 with 1 Axes>"
            ]
          },
          "metadata": {
            "tags": [],
            "needs_background": "light"
          }
        }
      ]
    },
    {
      "cell_type": "markdown",
      "metadata": {
        "id": "9B7cE-0vn_Aw",
        "colab_type": "text"
      },
      "source": [
        "- Both the training accuracy and the validation accuracy\n",
        "steadily increase during training, while the training loss and the validation\n",
        "loss decrease.\n",
        "- When plotting the training curve, it should be shifted by half an epoch to the left."
      ]
    },
    {
      "cell_type": "code",
      "metadata": {
        "id": "v-PlhUb1plEX",
        "colab_type": "code",
        "colab": {
          "base_uri": "https://localhost:8080/",
          "height": 51
        },
        "outputId": "28208e25-f2b5-4d0c-e93b-9054d889226a"
      },
      "source": [
        "model.evaluate(X_test, y_test)"
      ],
      "execution_count": 22,
      "outputs": [
        {
          "output_type": "stream",
          "text": [
            "313/313 [==============================] - 0s 2ms/step - loss: 0.3487 - accuracy: 0.8754\n"
          ],
          "name": "stdout"
        },
        {
          "output_type": "execute_result",
          "data": {
            "text/plain": [
              "[0.3486558496952057, 0.8754000067710876]"
            ]
          },
          "metadata": {
            "tags": []
          },
          "execution_count": 22
        }
      ]
    },
    {
      "cell_type": "code",
      "metadata": {
        "id": "_K2bj1OhqbIz",
        "colab_type": "code",
        "colab": {
          "base_uri": "https://localhost:8080/",
          "height": 85
        },
        "outputId": "a96b2070-a08f-481d-e7d4-f4bf39c46466"
      },
      "source": [
        "X_new = X_test[:3]\n",
        "y_proba = model.predict(X_new)\n",
        "y_proba.round(2)"
      ],
      "execution_count": 23,
      "outputs": [
        {
          "output_type": "execute_result",
          "data": {
            "text/plain": [
              "array([[0.  , 0.  , 0.  , 0.  , 0.  , 0.  , 0.  , 0.  , 0.  , 0.99],\n",
              "       [0.  , 0.  , 0.99, 0.  , 0.01, 0.  , 0.  , 0.  , 0.  , 0.  ],\n",
              "       [0.  , 1.  , 0.  , 0.  , 0.  , 0.  , 0.  , 0.  , 0.  , 0.  ]],\n",
              "      dtype=float32)"
            ]
          },
          "metadata": {
            "tags": []
          },
          "execution_count": 23
        }
      ]
    },
    {
      "cell_type": "code",
      "metadata": {
        "id": "49XGEhVqq3_u",
        "colab_type": "code",
        "colab": {
          "base_uri": "https://localhost:8080/",
          "height": 105
        },
        "outputId": "f2a07a2d-c816-4d7e-fdd2-b6ae6f03058b"
      },
      "source": [
        "  y_model = model.predict_classes(X_new)\n",
        "  y_model"
      ],
      "execution_count": 25,
      "outputs": [
        {
          "output_type": "stream",
          "text": [
            "WARNING:tensorflow:From <ipython-input-25-4ff78174790a>:1: Sequential.predict_classes (from tensorflow.python.keras.engine.sequential) is deprecated and will be removed after 2021-01-01.\n",
            "Instructions for updating:\n",
            "Please use instead:* `np.argmax(model.predict(x), axis=-1)`,   if your model does multi-class classification   (e.g. if it uses a `softmax` last-layer activation).* `(model.predict(x) > 0.5).astype(\"int32\")`,   if your model does binary classification   (e.g. if it uses a `sigmoid` last-layer activation).\n"
          ],
          "name": "stdout"
        },
        {
          "output_type": "execute_result",
          "data": {
            "text/plain": [
              "array([9, 2, 1])"
            ]
          },
          "metadata": {
            "tags": []
          },
          "execution_count": 25
        }
      ]
    },
    {
      "cell_type": "code",
      "metadata": {
        "id": "Dc_-zlwYrS6Q",
        "colab_type": "code",
        "colab": {
          "base_uri": "https://localhost:8080/",
          "height": 34
        },
        "outputId": "b79b991a-cdda-454d-f12e-034de393bfe0"
      },
      "source": [
        "np.array(class_names)[y_model]"
      ],
      "execution_count": 30,
      "outputs": [
        {
          "output_type": "execute_result",
          "data": {
            "text/plain": [
              "array(['Ankle boot', 'Pullover', 'Trouser'], dtype='<U11')"
            ]
          },
          "metadata": {
            "tags": []
          },
          "execution_count": 30
        }
      ]
    },
    {
      "cell_type": "code",
      "metadata": {
        "id": "Qu2YZe7lq4Cs",
        "colab_type": "code",
        "colab": {
          "base_uri": "https://localhost:8080/",
          "height": 164
        },
        "outputId": "46c58405-501f-4af5-cdca-db3ff07b8afb"
      },
      "source": [
        "plt.figure(figsize=(7.2, 2.4))\n",
        "for index, image in enumerate(X_new):\n",
        "    plt.subplot(1, 3, index + 1)\n",
        "    plt.imshow(image, cmap=\"binary\", interpolation=\"nearest\")\n",
        "    plt.axis('off')\n",
        "    plt.title(class_names[y_test[index]], fontsize=12)\n",
        "plt.subplots_adjust(wspace=0.2, hspace=0.5)\n",
        "plt.show()"
      ],
      "execution_count": 24,
      "outputs": [
        {
          "output_type": "display_data",
          "data": {
            "image/png": "[encoded data removed]",
            "text/plain": [
              "<Figure size 518.4x172.8 with 3 Axes>"
            ]
          },
          "metadata": {
            "tags": [],
            "needs_background": "light"
          }
        }
      ]
    },
    {
      "cell_type": "markdown",
      "metadata": {
        "id": "txVYDviYr9Fm",
        "colab_type": "text"
      },
      "source": [
        "# **Regression MLP using Sequential**"
      ]
    },
    {
      "cell_type": "code",
      "metadata": {
        "id": "NIqmx_ztsOFi",
        "colab_type": "code",
        "colab": {
          "base_uri": "https://localhost:8080/",
          "height": 34
        },
        "outputId": "8f1867ce-b899-4e13-90b7-4dfebccd668c"
      },
      "source": [
        "housing = fetch_california_housing()\n",
        "X_train_full, X_test, y_train_full, y_test = train_test_split(housing.data, housing.target)\n",
        "X_train, X_val, y_train, y_val = train_test_split(X_train_full, y_train_full)"
      ],
      "execution_count": 32,
      "outputs": [
        {
          "output_type": "stream",
          "text": [
            "Downloading Cal. housing from https://ndownloader.figshare.com/files/5976036 to /root/scikit_learn_data\n"
          ],
          "name": "stderr"
        }
      ]
    },
    {
      "cell_type": "code",
      "metadata": {
        "id": "2fOEJV3lyO42",
        "colab_type": "code",
        "colab": {}
      },
      "source": [
        "scaler = StandardScaler()\n",
        "X_train = scaler.fit_transform(X_train)\n",
        "X_val = scaler.transform(X_val)\n",
        "X_test = scaler.transform(X_test)"
      ],
      "execution_count": 33,
      "outputs": []
    },
    {
      "cell_type": "markdown",
      "metadata": {
        "id": "hPA2DYBeycCj",
        "colab_type": "text"
      },
      "source": [
        "- The main differences between reg and clf model designs are:\n",
        "  - o/p layer has a single neuron (since we're predicting a single value)\n",
        "  - uses no activation function\n",
        "  - loss function used: mean squared error"
      ]
    },
    {
      "cell_type": "code",
      "metadata": {
        "id": "vP68Qhj3zAM3",
        "colab_type": "code",
        "colab": {}
      },
      "source": [
        "model = keras.models.Sequential([\n",
        "  keras.layers.Dense(30, activation=\"relu\", input_shape=X_train.shape[1:]),\n",
        "  keras.layers.Dense(1)\n",
        "])"
      ],
      "execution_count": 42,
      "outputs": []
    },
    {
      "cell_type": "code",
      "metadata": {
        "id": "utxAuftozerk",
        "colab_type": "code",
        "colab": {}
      },
      "source": [
        "model.compile(loss=\"mean_squared_error\", optimizer=\"sgd\")"
      ],
      "execution_count": 43,
      "outputs": []
    },
    {
      "cell_type": "code",
      "metadata": {
        "id": "KPH4EUMhze2J",
        "colab_type": "code",
        "colab": {
          "base_uri": "https://localhost:8080/",
          "height": 1000
        },
        "outputId": "3a87ccad-43b4-4bcd-cf4f-fbd1fc90caa2"
      },
      "source": [
        "history = model.fit(X_train, y_train, epochs=30, validation_data=(X_val, y_val))"
      ],
      "execution_count": 44,
      "outputs": [
        {
          "output_type": "stream",
          "text": [
            "Epoch 1/30\n",
            "363/363 [==============================] - 1s 1ms/step - loss: 0.8674 - val_loss: 0.5168\n",
            "Epoch 2/30\n",
            "363/363 [==============================] - 0s 1ms/step - loss: 0.4956 - val_loss: 0.4494\n",
            "Epoch 3/30\n",
            "363/363 [==============================] - 0s 1ms/step - loss: 0.4492 - val_loss: 0.4295\n",
            "Epoch 4/30\n",
            "363/363 [==============================] - 0s 1ms/step - loss: 0.4300 - val_loss: 0.4167\n",
            "Epoch 5/30\n",
            "363/363 [==============================] - 0s 1ms/step - loss: 0.4205 - val_loss: 0.4042\n",
            "Epoch 6/30\n",
            "363/363 [==============================] - 0s 1ms/step - loss: 0.4139 - val_loss: 0.3947\n",
            "Epoch 7/30\n",
            "363/363 [==============================] - 0s 1ms/step - loss: 0.4095 - val_loss: 0.3932\n",
            "Epoch 8/30\n",
            "363/363 [==============================] - 0s 1ms/step - loss: 0.4033 - val_loss: 0.4148\n",
            "Epoch 9/30\n",
            "363/363 [==============================] - 0s 1ms/step - loss: 0.4102 - val_loss: 0.3863\n",
            "Epoch 10/30\n",
            "363/363 [==============================] - 0s 1ms/step - loss: 0.3952 - val_loss: 0.3829\n",
            "Epoch 11/30\n",
            "363/363 [==============================] - 0s 1ms/step - loss: 0.3901 - val_loss: 0.3761\n",
            "Epoch 12/30\n",
            "363/363 [==============================] - 0s 1ms/step - loss: 0.4288 - val_loss: 0.3772\n",
            "Epoch 13/30\n",
            "363/363 [==============================] - 0s 1ms/step - loss: 0.3859 - val_loss: 0.3853\n",
            "Epoch 14/30\n",
            "363/363 [==============================] - 0s 1ms/step - loss: 0.3845 - val_loss: 0.3718\n",
            "Epoch 15/30\n",
            "363/363 [==============================] - 0s 1ms/step - loss: 0.3800 - val_loss: 0.3692\n",
            "Epoch 16/30\n",
            "363/363 [==============================] - 0s 1ms/step - loss: 0.3778 - val_loss: 0.3648\n",
            "Epoch 17/30\n",
            "363/363 [==============================] - 0s 1ms/step - loss: 0.3776 - val_loss: 0.3677\n",
            "Epoch 18/30\n",
            "363/363 [==============================] - 0s 1ms/step - loss: 0.3742 - val_loss: 0.3659\n",
            "Epoch 19/30\n",
            "363/363 [==============================] - 0s 1ms/step - loss: 0.3728 - val_loss: 0.3639\n",
            "Epoch 20/30\n",
            "363/363 [==============================] - 0s 1ms/step - loss: 0.3715 - val_loss: 0.3659\n",
            "Epoch 21/30\n",
            "363/363 [==============================] - 0s 1ms/step - loss: 0.3741 - val_loss: 0.3585\n",
            "Epoch 22/30\n",
            "363/363 [==============================] - 0s 1ms/step - loss: 0.3687 - val_loss: 0.3625\n",
            "Epoch 23/30\n",
            "363/363 [==============================] - 0s 1ms/step - loss: 0.3671 - val_loss: 0.3572\n",
            "Epoch 24/30\n",
            "363/363 [==============================] - 0s 1ms/step - loss: 0.3654 - val_loss: 0.3565\n",
            "Epoch 25/30\n",
            "363/363 [==============================] - 0s 1ms/step - loss: 0.3716 - val_loss: 0.3550\n",
            "Epoch 26/30\n",
            "363/363 [==============================] - 0s 1ms/step - loss: 0.3680 - val_loss: 0.3581\n",
            "Epoch 27/30\n",
            "363/363 [==============================] - 0s 1ms/step - loss: 0.3957 - val_loss: 0.3683\n",
            "Epoch 28/30\n",
            "363/363 [==============================] - 0s 1ms/step - loss: 0.3723 - val_loss: 0.3646\n",
            "Epoch 29/30\n",
            "363/363 [==============================] - 0s 1ms/step - loss: 0.3653 - val_loss: 0.3596\n",
            "Epoch 30/30\n",
            "363/363 [==============================] - 0s 1ms/step - loss: 0.3628 - val_loss: 0.3567\n"
          ],
          "name": "stdout"
        }
      ]
    },
    {
      "cell_type": "code",
      "metadata": {
        "id": "JsvFNmh50DEr",
        "colab_type": "code",
        "colab": {
          "base_uri": "https://localhost:8080/",
          "height": 268
        },
        "outputId": "7a96bdfd-db64-4f2a-b8db-86a16d8c0017"
      },
      "source": [
        "plt.plot(pd.DataFrame(history.history))\n",
        "plt.grid(True)\n",
        "plt.gca().set_ylim(0, 1)\n",
        "plt.show()"
      ],
      "execution_count": 45,
      "outputs": [
        {
          "output_type": "display_data",
          "data": {
            "image/png": "[encoded data removed]",
            "text/plain": [
              "<Figure size 432x288 with 1 Axes>"
            ]
          },
          "metadata": {
            "tags": [],
            "needs_background": "light"
          }
        }
      ]
    },
    {
      "cell_type": "code",
      "metadata": {
        "id": "VetM8K7SzmYO",
        "colab_type": "code",
        "colab": {
          "base_uri": "https://localhost:8080/",
          "height": 51
        },
        "outputId": "72391ce0-25a6-4ff9-8409-4ce238161266"
      },
      "source": [
        "mse_test = model.evaluate(X_test, y_test)\n",
        "mse_test"
      ],
      "execution_count": 46,
      "outputs": [
        {
          "output_type": "stream",
          "text": [
            "162/162 [==============================] - 0s 867us/step - loss: 0.3614\n"
          ],
          "name": "stdout"
        },
        {
          "output_type": "execute_result",
          "data": {
            "text/plain": [
              "0.36143454909324646"
            ]
          },
          "metadata": {
            "tags": []
          },
          "execution_count": 46
        }
      ]
    },
    {
      "cell_type": "code",
      "metadata": {
        "id": "jlM-G_sezuVF",
        "colab_type": "code",
        "colab": {
          "base_uri": "https://localhost:8080/",
          "height": 68
        },
        "outputId": "447c28c1-2dc4-4609-a8b4-187a489f4918"
      },
      "source": [
        "X_new = X_test[:3] # pretend these are new instances\n",
        "y_pred = model.predict(X_new)\n",
        "y_pred"
      ],
      "execution_count": 48,
      "outputs": [
        {
          "output_type": "execute_result",
          "data": {
            "text/plain": [
              "array([[1.7458103],\n",
              "       [1.8336592],\n",
              "       [1.9972527]], dtype=float32)"
            ]
          },
          "metadata": {
            "tags": []
          },
          "execution_count": 48
        }
      ]
    }
  ]
}