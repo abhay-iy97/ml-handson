{
  "nbformat": 4,
  "nbformat_minor": 0,
  "metadata": {
    "colab": {
      "name": "NN_with_Keras.ipynb",
      "provenance": [],
      "collapsed_sections": [
        "u9_z1t70xC41",
        "txVYDviYr9Fm",
        "Qa7t6JFxM1xB"
      ]
    },
    "kernelspec": {
      "name": "python3",
      "display_name": "Python 3"
    }
  },
  "cells": [
    {
      "cell_type": "code",
      "metadata": {
        "id": "EDpfhPobwha6",
        "colab_type": "code",
        "colab": {}
      },
      "source": [
        "import tensorflow as tf\n",
        "from tensorflow import keras\n",
        "import pandas as pd\n",
        "import matplotlib.pyplot as plt\n",
        "import numpy as np\n",
        "from sklearn.datasets import fetch_california_housing\n",
        "from sklearn.model_selection import train_test_split\n",
        "from sklearn.preprocessing import StandardScaler"
      ],
      "execution_count": 1,
      "outputs": []
    },
    {
      "cell_type": "code",
      "metadata": {
        "id": "4OaEnsKbwlGo",
        "colab_type": "code",
        "colab": {
          "base_uri": "https://localhost:8080/",
          "height": 35
        },
        "outputId": "5854f643-60ed-4cd5-ddb1-22b7ca02c98c"
      },
      "source": [
        "tf.__version__"
      ],
      "execution_count": null,
      "outputs": [
        {
          "output_type": "execute_result",
          "data": {
            "application/vnd.google.colaboratory.intrinsic+json": {
              "type": "string"
            },
            "text/plain": [
              "'2.3.0'"
            ]
          },
          "metadata": {
            "tags": []
          },
          "execution_count": 3
        }
      ]
    },
    {
      "cell_type": "code",
      "metadata": {
        "id": "jfDdAC75w16i",
        "colab_type": "code",
        "colab": {
          "base_uri": "https://localhost:8080/",
          "height": 35
        },
        "outputId": "4fc39563-aab5-49e2-b64d-42130a2242d6"
      },
      "source": [
        "keras.__version__"
      ],
      "execution_count": null,
      "outputs": [
        {
          "output_type": "execute_result",
          "data": {
            "application/vnd.google.colaboratory.intrinsic+json": {
              "type": "string"
            },
            "text/plain": [
              "'2.4.0'"
            ]
          },
          "metadata": {
            "tags": []
          },
          "execution_count": 4
        }
      ]
    },
    {
      "cell_type": "markdown",
      "metadata": {
        "id": "u9_z1t70xC41",
        "colab_type": "text"
      },
      "source": [
        "# **Image Classifier using the Sequential API**\n",
        "- Using Fashion MNIST"
      ]
    },
    {
      "cell_type": "code",
      "metadata": {
        "id": "vShsch6PxRwZ",
        "colab_type": "code",
        "colab": {
          "base_uri": "https://localhost:8080/",
          "height": 154
        },
        "outputId": "d7770d9f-54bc-446c-ba78-13ee7571a0bb"
      },
      "source": [
        "  #Loading the dataset\n",
        "  fashion_mnist = keras.datasets.fashion_mnist\n",
        "  (X_train_full, y_train_full), (X_test, y_test) = fashion_mnist.load_data()"
      ],
      "execution_count": null,
      "outputs": [
        {
          "output_type": "stream",
          "text": [
            "Downloading data from https://storage.googleapis.com/tensorflow/tf-keras-datasets/train-labels-idx1-ubyte.gz\n",
            "32768/29515 [=================================] - 0s 0us/step\n",
            "Downloading data from https://storage.googleapis.com/tensorflow/tf-keras-datasets/train-images-idx3-ubyte.gz\n",
            "26427392/26421880 [==============================] - 0s 0us/step\n",
            "Downloading data from https://storage.googleapis.com/tensorflow/tf-keras-datasets/t10k-labels-idx1-ubyte.gz\n",
            "8192/5148 [===============================================] - 0s 0us/step\n",
            "Downloading data from https://storage.googleapis.com/tensorflow/tf-keras-datasets/t10k-images-idx3-ubyte.gz\n",
            "4423680/4422102 [==============================] - 0s 0us/step\n"
          ],
          "name": "stdout"
        }
      ]
    },
    {
      "cell_type": "code",
      "metadata": {
        "id": "LH8lpF0rzLZc",
        "colab_type": "code",
        "colab": {
          "base_uri": "https://localhost:8080/",
          "height": 34
        },
        "outputId": "b34a7c93-f8b2-4be7-c6d2-531780325ee8"
      },
      "source": [
        "X_train_full.shape, X_test.shape"
      ],
      "execution_count": null,
      "outputs": [
        {
          "output_type": "execute_result",
          "data": {
            "text/plain": [
              "((60000, 28, 28), (10000, 28, 28))"
            ]
          },
          "metadata": {
            "tags": []
          },
          "execution_count": 7
        }
      ]
    },
    {
      "cell_type": "code",
      "metadata": {
        "id": "LJzUTPfWzUgL",
        "colab_type": "code",
        "colab": {}
      },
      "source": [
        "#Creating scaled validation and train sets\n",
        "X_val, X_train = X_train_full[:5000]/255.0, X_train_full[5000:] / 255.0\n",
        "y_val, y_train = y_train_full[:5000], y_train_full[5000:]\n",
        "X_test = X_test / 255.0"
      ],
      "execution_count": null,
      "outputs": []
    },
    {
      "cell_type": "code",
      "metadata": {
        "id": "60fIzIMYzUmQ",
        "colab_type": "code",
        "colab": {}
      },
      "source": [
        "class_names = [\"T-shirt/top\", \"Trouser\", \"Pullover\", \"Dress\", \"Coat\",\"Sandal\", \"Shirt\", \"Sneaker\", \"Bag\", \"Ankle boot\"]"
      ],
      "execution_count": null,
      "outputs": []
    },
    {
      "cell_type": "code",
      "metadata": {
        "id": "vI6so3ZdzUkW",
        "colab_type": "code",
        "colab": {
          "base_uri": "https://localhost:8080/",
          "height": 35
        },
        "outputId": "f557d085-6383-497d-8c93-bc749d42cdda"
      },
      "source": [
        "class_names[y_train[0]]"
      ],
      "execution_count": null,
      "outputs": [
        {
          "output_type": "execute_result",
          "data": {
            "application/vnd.google.colaboratory.intrinsic+json": {
              "type": "string"
            },
            "text/plain": [
              "'Coat'"
            ]
          },
          "metadata": {
            "tags": []
          },
          "execution_count": 6
        }
      ]
    },
    {
      "cell_type": "markdown",
      "metadata": {
        "id": "NpH9IDVq0YBw",
        "colab_type": "text"
      },
      "source": [
        "- Creating the model"
      ]
    },
    {
      "cell_type": "code",
      "metadata": {
        "id": "Qwy3jZmR0cHw",
        "colab_type": "code",
        "colab": {}
      },
      "source": [
        "model = keras.models.Sequential([\n",
        "  keras.layers.Flatten(input_shape=[28,28]),\n",
        "  keras.layers.Dense(300, activation='relu'),\n",
        "  keras.layers.Dense(100, activation='relu'),\n",
        "  keras.layers.Dense(10, activation='softmax')\n",
        "])"
      ],
      "execution_count": null,
      "outputs": []
    },
    {
      "cell_type": "markdown",
      "metadata": {
        "id": "qdKzbSdU2oa_",
        "colab_type": "text"
      },
      "source": [
        "### **Points to note:** \n",
        "- Sequential model provides a single stack of layers connected sequentially.\n",
        "- **Flatter layer** - 1st layer of the model.\n",
        "  - Converts each input image into a 1D array.\n",
        "  - i.e if it receives input data X , it computes X.reshape(-1, 1).\n",
        "  - can also use **keras.layers.InputLayer**.\n",
        "- **Dense Layer** - Manages own weight matrix (connection weights) of 300 neurons + bias neuron and the inputs.\n",
        "- **Output Layer (Dense)** - 10 neurons which predict the class using the softmax activation function."
      ]
    },
    {
      "cell_type": "code",
      "metadata": {
        "id": "ZfzdGoi94VTw",
        "colab_type": "code",
        "colab": {
          "base_uri": "https://localhost:8080/",
          "height": 291
        },
        "outputId": "78954af5-9469-451a-b57a-16c1d544de91"
      },
      "source": [
        "model.summary()"
      ],
      "execution_count": null,
      "outputs": [
        {
          "output_type": "stream",
          "text": [
            "Model: \"sequential\"\n",
            "_________________________________________________________________\n",
            "Layer (type)                 Output Shape              Param #   \n",
            "=================================================================\n",
            "flatten (Flatten)            (None, 784)               0         \n",
            "_________________________________________________________________\n",
            "dense (Dense)                (None, 300)               235500    \n",
            "_________________________________________________________________\n",
            "dense_1 (Dense)              (None, 100)               30100     \n",
            "_________________________________________________________________\n",
            "dense_2 (Dense)              (None, 10)                1010      \n",
            "=================================================================\n",
            "Total params: 266,610\n",
            "Trainable params: 266,610\n",
            "Non-trainable params: 0\n",
            "_________________________________________________________________\n"
          ],
          "name": "stdout"
        }
      ]
    },
    {
      "cell_type": "code",
      "metadata": {
        "id": "SI1cbeST48qv",
        "colab_type": "code",
        "colab": {
          "base_uri": "https://localhost:8080/",
          "height": 85
        },
        "outputId": "bdf2dbab-a0a6-42d9-cabb-ddc217b7ef3f"
      },
      "source": [
        "model.layers"
      ],
      "execution_count": null,
      "outputs": [
        {
          "output_type": "execute_result",
          "data": {
            "text/plain": [
              "[<tensorflow.python.keras.layers.core.Flatten at 0x7f98f9c44d68>,\n",
              " <tensorflow.python.keras.layers.core.Dense at 0x7f98f97e80b8>,\n",
              " <tensorflow.python.keras.layers.core.Dense at 0x7f98f97e8390>,\n",
              " <tensorflow.python.keras.layers.core.Dense at 0x7f98f9c44ef0>]"
            ]
          },
          "metadata": {
            "tags": []
          },
          "execution_count": 9
        }
      ]
    },
    {
      "cell_type": "code",
      "metadata": {
        "id": "rinmyVB848uF",
        "colab_type": "code",
        "colab": {
          "base_uri": "https://localhost:8080/",
          "height": 51
        },
        "outputId": "1dfc139a-b918-4a0b-abbe-77a0f2fcf29b"
      },
      "source": [
        "hidden2 = model.layers[2]\n",
        "print(hidden2.name)\n",
        "model.get_layer('dense_1') is hidden2"
      ],
      "execution_count": null,
      "outputs": [
        {
          "output_type": "stream",
          "text": [
            "dense_1\n"
          ],
          "name": "stdout"
        },
        {
          "output_type": "execute_result",
          "data": {
            "text/plain": [
              "True"
            ]
          },
          "metadata": {
            "tags": []
          },
          "execution_count": 10
        }
      ]
    },
    {
      "cell_type": "code",
      "metadata": {
        "id": "wu58YoKM48o6",
        "colab_type": "code",
        "colab": {}
      },
      "source": [
        "weights, biases = hidden2.get_weights()"
      ],
      "execution_count": null,
      "outputs": []
    },
    {
      "cell_type": "code",
      "metadata": {
        "id": "NISY4uGL5eZL",
        "colab_type": "code",
        "colab": {
          "base_uri": "https://localhost:8080/",
          "height": 240
        },
        "outputId": "2d24ceab-7cd2-48f7-b6a1-00e201041dde"
      },
      "source": [
        "weights\n",
        "#Weights randomly initialized to break symmetry"
      ],
      "execution_count": null,
      "outputs": [
        {
          "output_type": "execute_result",
          "data": {
            "text/plain": [
              "array([[-0.02917467,  0.00286523, -0.10587546, ...,  0.11216355,\n",
              "        -0.11815788,  0.06023564],\n",
              "       [ 0.06502882,  0.02196876, -0.07664464, ...,  0.0979246 ,\n",
              "         0.02710102, -0.05366995],\n",
              "       [ 0.03592055,  0.12227464,  0.07437467, ..., -0.02456796,\n",
              "         0.0236944 , -0.02573381],\n",
              "       ...,\n",
              "       [-0.07869992, -0.11819616,  0.02355132, ..., -0.05917171,\n",
              "         0.02217358,  0.05246992],\n",
              "       [ 0.04570452, -0.08791241,  0.06829647, ...,  0.04619998,\n",
              "         0.0023229 ,  0.00632677],\n",
              "       [ 0.0850876 , -0.11626717,  0.02760143, ..., -0.06136406,\n",
              "         0.00590556, -0.063309  ]], dtype=float32)"
            ]
          },
          "metadata": {
            "tags": []
          },
          "execution_count": 12
        }
      ]
    },
    {
      "cell_type": "code",
      "metadata": {
        "id": "f2ydmGIv5edw",
        "colab_type": "code",
        "colab": {
          "base_uri": "https://localhost:8080/",
          "height": 34
        },
        "outputId": "bc7972e5-4480-4ac4-f1ed-7b42153a5ab8"
      },
      "source": [
        "weights.shape"
      ],
      "execution_count": null,
      "outputs": [
        {
          "output_type": "execute_result",
          "data": {
            "text/plain": [
              "(300, 100)"
            ]
          },
          "metadata": {
            "tags": []
          },
          "execution_count": 13
        }
      ]
    },
    {
      "cell_type": "markdown",
      "metadata": {
        "id": "POTweJZ_6Gap",
        "colab_type": "text"
      },
      "source": [
        "- Compiling the model\n",
        "  - We use sparse_categorical_crossentropy since we have sparse labels i.e for each instance there is just a target class index (0-9)\n",
        "  - if we were using one-hot vectors (then we can use categorical_crossentropy)\n",
        "  - For binary classification, we can use binary_crossentropy loss"
      ]
    },
    {
      "cell_type": "code",
      "metadata": {
        "id": "hfECT6T75ebf",
        "colab_type": "code",
        "colab": {}
      },
      "source": [
        "model.compile(loss='sparse_categorical_crossentropy',\n",
        "              optimizer='sgd',\n",
        "              metrics=['accuracy'])"
      ],
      "execution_count": null,
      "outputs": []
    },
    {
      "cell_type": "code",
      "metadata": {
        "id": "5wa2BuAYj07s",
        "colab_type": "code",
        "colab": {
          "base_uri": "https://localhost:8080/",
          "height": 1000
        },
        "outputId": "a6a8910f-b3e8-45a5-d8c4-dce5b1508624"
      },
      "source": [
        "hist = model.fit(X_train, y_train, epochs=30, validation_data=(X_val, y_val))"
      ],
      "execution_count": null,
      "outputs": [
        {
          "output_type": "stream",
          "text": [
            "Epoch 1/30\n",
            "1719/1719 [==============================] - 6s 3ms/step - loss: 0.7382 - accuracy: 0.7586 - val_loss: 0.5186 - val_accuracy: 0.8268\n",
            "Epoch 2/30\n",
            "1719/1719 [==============================] - 5s 3ms/step - loss: 0.4912 - accuracy: 0.8295 - val_loss: 0.4732 - val_accuracy: 0.8290\n",
            "Epoch 3/30\n",
            "1719/1719 [==============================] - 5s 3ms/step - loss: 0.4462 - accuracy: 0.8435 - val_loss: 0.4186 - val_accuracy: 0.8582\n",
            "Epoch 4/30\n",
            "1719/1719 [==============================] - 5s 3ms/step - loss: 0.4175 - accuracy: 0.8535 - val_loss: 0.4231 - val_accuracy: 0.8522\n",
            "Epoch 5/30\n",
            "1719/1719 [==============================] - 5s 3ms/step - loss: 0.3965 - accuracy: 0.8612 - val_loss: 0.4003 - val_accuracy: 0.8612\n",
            "Epoch 6/30\n",
            "1719/1719 [==============================] - 5s 3ms/step - loss: 0.3803 - accuracy: 0.8663 - val_loss: 0.3708 - val_accuracy: 0.8694\n",
            "Epoch 7/30\n",
            "1719/1719 [==============================] - 5s 3ms/step - loss: 0.3670 - accuracy: 0.8702 - val_loss: 0.3784 - val_accuracy: 0.8688\n",
            "Epoch 8/30\n",
            "1719/1719 [==============================] - 5s 3ms/step - loss: 0.3548 - accuracy: 0.8746 - val_loss: 0.3808 - val_accuracy: 0.8646\n",
            "Epoch 9/30\n",
            "1719/1719 [==============================] - 5s 3ms/step - loss: 0.3457 - accuracy: 0.8762 - val_loss: 0.3591 - val_accuracy: 0.8760\n",
            "Epoch 10/30\n",
            "1719/1719 [==============================] - 5s 3ms/step - loss: 0.3347 - accuracy: 0.8805 - val_loss: 0.3475 - val_accuracy: 0.8760\n",
            "Epoch 11/30\n",
            "1719/1719 [==============================] - 5s 3ms/step - loss: 0.3277 - accuracy: 0.8829 - val_loss: 0.3375 - val_accuracy: 0.8794\n",
            "Epoch 12/30\n",
            "1719/1719 [==============================] - 5s 3ms/step - loss: 0.3196 - accuracy: 0.8851 - val_loss: 0.3494 - val_accuracy: 0.8802\n",
            "Epoch 13/30\n",
            "1719/1719 [==============================] - 5s 3ms/step - loss: 0.3127 - accuracy: 0.8877 - val_loss: 0.3399 - val_accuracy: 0.8786\n",
            "Epoch 14/30\n",
            "1719/1719 [==============================] - 5s 3ms/step - loss: 0.3051 - accuracy: 0.8905 - val_loss: 0.3261 - val_accuracy: 0.8836\n",
            "Epoch 15/30\n",
            "1719/1719 [==============================] - 5s 3ms/step - loss: 0.2988 - accuracy: 0.8913 - val_loss: 0.3272 - val_accuracy: 0.8832\n",
            "Epoch 16/30\n",
            "1719/1719 [==============================] - 5s 3ms/step - loss: 0.2937 - accuracy: 0.8933 - val_loss: 0.3130 - val_accuracy: 0.8894\n",
            "Epoch 17/30\n",
            "1719/1719 [==============================] - 5s 3ms/step - loss: 0.2873 - accuracy: 0.8972 - val_loss: 0.3181 - val_accuracy: 0.8838\n",
            "Epoch 18/30\n",
            "1719/1719 [==============================] - 5s 3ms/step - loss: 0.2816 - accuracy: 0.8976 - val_loss: 0.3545 - val_accuracy: 0.8686\n",
            "Epoch 19/30\n",
            "1719/1719 [==============================] - 5s 3ms/step - loss: 0.2770 - accuracy: 0.8991 - val_loss: 0.3076 - val_accuracy: 0.8900\n",
            "Epoch 20/30\n",
            "1719/1719 [==============================] - 5s 3ms/step - loss: 0.2722 - accuracy: 0.9002 - val_loss: 0.3094 - val_accuracy: 0.8912\n",
            "Epoch 21/30\n",
            "1719/1719 [==============================] - 5s 3ms/step - loss: 0.2677 - accuracy: 0.9029 - val_loss: 0.3048 - val_accuracy: 0.8912\n",
            "Epoch 22/30\n",
            "1719/1719 [==============================] - 5s 3ms/step - loss: 0.2629 - accuracy: 0.9050 - val_loss: 0.3074 - val_accuracy: 0.8906\n",
            "Epoch 23/30\n",
            "1719/1719 [==============================] - 5s 3ms/step - loss: 0.2578 - accuracy: 0.9075 - val_loss: 0.3221 - val_accuracy: 0.8842\n",
            "Epoch 24/30\n",
            "1719/1719 [==============================] - 5s 3ms/step - loss: 0.2536 - accuracy: 0.9079 - val_loss: 0.3161 - val_accuracy: 0.8846\n",
            "Epoch 25/30\n",
            "1719/1719 [==============================] - 5s 3ms/step - loss: 0.2490 - accuracy: 0.9103 - val_loss: 0.3028 - val_accuracy: 0.8890\n",
            "Epoch 26/30\n",
            "1719/1719 [==============================] - 5s 3ms/step - loss: 0.2453 - accuracy: 0.9105 - val_loss: 0.3031 - val_accuracy: 0.8924\n",
            "Epoch 27/30\n",
            "1719/1719 [==============================] - 5s 3ms/step - loss: 0.2416 - accuracy: 0.9121 - val_loss: 0.3085 - val_accuracy: 0.8864\n",
            "Epoch 28/30\n",
            "1719/1719 [==============================] - 5s 3ms/step - loss: 0.2379 - accuracy: 0.9139 - val_loss: 0.2989 - val_accuracy: 0.8920\n",
            "Epoch 29/30\n",
            "1719/1719 [==============================] - 5s 3ms/step - loss: 0.2334 - accuracy: 0.9152 - val_loss: 0.3032 - val_accuracy: 0.8902\n",
            "Epoch 30/30\n",
            "1719/1719 [==============================] - 5s 3ms/step - loss: 0.2302 - accuracy: 0.9172 - val_loss: 0.3061 - val_accuracy: 0.8930\n"
          ],
          "name": "stdout"
        }
      ]
    },
    {
      "cell_type": "markdown",
      "metadata": {
        "id": "EcGmwI9ilU3P",
        "colab_type": "text"
      },
      "source": [
        "- *class_weight* param in fit() can help give a larger weight to underrepresented classes and a lower weight to overrepresented classes.\n",
        "  - These weights are used by Keras when computing the loss"
      ]
    },
    {
      "cell_type": "code",
      "metadata": {
        "id": "sJpN5T0UnIv6",
        "colab_type": "code",
        "colab": {
          "base_uri": "https://localhost:8080/",
          "height": 324
        },
        "outputId": "3687a551-daed-4476-fa06-cc9b5dc30e09"
      },
      "source": [
        "pd.DataFrame(hist.history).plot(figsize=(8, 5)) #hist.history contains the loss and other extra metrics. Can plot the learning curves with this.\n",
        "plt.grid(True)\n",
        "plt.gca().set_ylim(0, 1)\n",
        "plt.show()"
      ],
      "execution_count": null,
      "outputs": [
        {
          "output_type": "display_data",
          "data": {
            "image/png": "[encoded data removed]",
            "text/plain": [
              "<Figure size 576x360 with 1 Axes>"
            ]
          },
          "metadata": {
            "tags": [],
            "needs_background": "light"
          }
        }
      ]
    },
    {
      "cell_type": "markdown",
      "metadata": {
        "id": "9B7cE-0vn_Aw",
        "colab_type": "text"
      },
      "source": [
        "- Both the training accuracy and the validation accuracy\n",
        "steadily increase during training, while the training loss and the validation\n",
        "loss decrease.\n",
        "- When plotting the training curve, it should be shifted by half an epoch to the left."
      ]
    },
    {
      "cell_type": "code",
      "metadata": {
        "id": "v-PlhUb1plEX",
        "colab_type": "code",
        "colab": {
          "base_uri": "https://localhost:8080/",
          "height": 51
        },
        "outputId": "28208e25-f2b5-4d0c-e93b-9054d889226a"
      },
      "source": [
        "model.evaluate(X_test, y_test)"
      ],
      "execution_count": null,
      "outputs": [
        {
          "output_type": "stream",
          "text": [
            "313/313 [==============================] - 0s 2ms/step - loss: 0.3487 - accuracy: 0.8754\n"
          ],
          "name": "stdout"
        },
        {
          "output_type": "execute_result",
          "data": {
            "text/plain": [
              "[0.3486558496952057, 0.8754000067710876]"
            ]
          },
          "metadata": {
            "tags": []
          },
          "execution_count": 22
        }
      ]
    },
    {
      "cell_type": "code",
      "metadata": {
        "id": "_K2bj1OhqbIz",
        "colab_type": "code",
        "colab": {
          "base_uri": "https://localhost:8080/",
          "height": 85
        },
        "outputId": "a96b2070-a08f-481d-e7d4-f4bf39c46466"
      },
      "source": [
        "X_new = X_test[:3]\n",
        "y_proba = model.predict(X_new)\n",
        "y_proba.round(2)"
      ],
      "execution_count": null,
      "outputs": [
        {
          "output_type": "execute_result",
          "data": {
            "text/plain": [
              "array([[0.  , 0.  , 0.  , 0.  , 0.  , 0.  , 0.  , 0.  , 0.  , 0.99],\n",
              "       [0.  , 0.  , 0.99, 0.  , 0.01, 0.  , 0.  , 0.  , 0.  , 0.  ],\n",
              "       [0.  , 1.  , 0.  , 0.  , 0.  , 0.  , 0.  , 0.  , 0.  , 0.  ]],\n",
              "      dtype=float32)"
            ]
          },
          "metadata": {
            "tags": []
          },
          "execution_count": 23
        }
      ]
    },
    {
      "cell_type": "code",
      "metadata": {
        "id": "49XGEhVqq3_u",
        "colab_type": "code",
        "colab": {
          "base_uri": "https://localhost:8080/",
          "height": 105
        },
        "outputId": "f2a07a2d-c816-4d7e-fdd2-b6ae6f03058b"
      },
      "source": [
        "  y_model = model.predict_classes(X_new)\n",
        "  y_model"
      ],
      "execution_count": null,
      "outputs": [
        {
          "output_type": "stream",
          "text": [
            "WARNING:tensorflow:From <ipython-input-25-4ff78174790a>:1: Sequential.predict_classes (from tensorflow.python.keras.engine.sequential) is deprecated and will be removed after 2021-01-01.\n",
            "Instructions for updating:\n",
            "Please use instead:* `np.argmax(model.predict(x), axis=-1)`,   if your model does multi-class classification   (e.g. if it uses a `softmax` last-layer activation).* `(model.predict(x) > 0.5).astype(\"int32\")`,   if your model does binary classification   (e.g. if it uses a `sigmoid` last-layer activation).\n"
          ],
          "name": "stdout"
        },
        {
          "output_type": "execute_result",
          "data": {
            "text/plain": [
              "array([9, 2, 1])"
            ]
          },
          "metadata": {
            "tags": []
          },
          "execution_count": 25
        }
      ]
    },
    {
      "cell_type": "code",
      "metadata": {
        "id": "Dc_-zlwYrS6Q",
        "colab_type": "code",
        "colab": {
          "base_uri": "https://localhost:8080/",
          "height": 34
        },
        "outputId": "b79b991a-cdda-454d-f12e-034de393bfe0"
      },
      "source": [
        "np.array(class_names)[y_model]"
      ],
      "execution_count": null,
      "outputs": [
        {
          "output_type": "execute_result",
          "data": {
            "text/plain": [
              "array(['Ankle boot', 'Pullover', 'Trouser'], dtype='<U11')"
            ]
          },
          "metadata": {
            "tags": []
          },
          "execution_count": 30
        }
      ]
    },
    {
      "cell_type": "code",
      "metadata": {
        "id": "Qu2YZe7lq4Cs",
        "colab_type": "code",
        "colab": {
          "base_uri": "https://localhost:8080/",
          "height": 164
        },
        "outputId": "46c58405-501f-4af5-cdca-db3ff07b8afb"
      },
      "source": [
        "plt.figure(figsize=(7.2, 2.4))\n",
        "for index, image in enumerate(X_new):\n",
        "    plt.subplot(1, 3, index + 1)\n",
        "    plt.imshow(image, cmap=\"binary\", interpolation=\"nearest\")\n",
        "    plt.axis('off')\n",
        "    plt.title(class_names[y_test[index]], fontsize=12)\n",
        "plt.subplots_adjust(wspace=0.2, hspace=0.5)\n",
        "plt.show()"
      ],
      "execution_count": null,
      "outputs": [
        {
          "output_type": "display_data",
          "data": {
            "image/png": "[encoded data removed]",
            "text/plain": [
              "<Figure size 518.4x172.8 with 3 Axes>"
            ]
          },
          "metadata": {
            "tags": [],
            "needs_background": "light"
          }
        }
      ]
    },
    {
      "cell_type": "markdown",
      "metadata": {
        "id": "txVYDviYr9Fm",
        "colab_type": "text"
      },
      "source": [
        "# **Regression MLP using Sequential**"
      ]
    },
    {
      "cell_type": "code",
      "metadata": {
        "id": "NIqmx_ztsOFi",
        "colab_type": "code",
        "colab": {
          "base_uri": "https://localhost:8080/",
          "height": 34
        },
        "outputId": "9e082e55-4422-4568-9f8f-441f1c84629a"
      },
      "source": [
        "housing = fetch_california_housing()\n",
        "X_train_full, X_test, y_train_full, y_test = train_test_split(housing.data, housing.target)\n",
        "X_train, X_val, y_train, y_val = train_test_split(X_train_full, y_train_full)"
      ],
      "execution_count": 2,
      "outputs": [
        {
          "output_type": "stream",
          "text": [
            "Downloading Cal. housing from https://ndownloader.figshare.com/files/5976036 to /root/scikit_learn_data\n"
          ],
          "name": "stderr"
        }
      ]
    },
    {
      "cell_type": "code",
      "metadata": {
        "id": "2fOEJV3lyO42",
        "colab_type": "code",
        "colab": {}
      },
      "source": [
        "scaler = StandardScaler()\n",
        "X_train = scaler.fit_transform(X_train)\n",
        "X_val = scaler.transform(X_val)\n",
        "X_test = scaler.transform(X_test)"
      ],
      "execution_count": 3,
      "outputs": []
    },
    {
      "cell_type": "markdown",
      "metadata": {
        "id": "hPA2DYBeycCj",
        "colab_type": "text"
      },
      "source": [
        "- The main differences between reg and clf model designs are:\n",
        "  - o/p layer has a single neuron (since we're predicting a single value)\n",
        "  - uses no activation function\n",
        "  - loss function used: mean squared error"
      ]
    },
    {
      "cell_type": "code",
      "metadata": {
        "id": "vP68Qhj3zAM3",
        "colab_type": "code",
        "colab": {}
      },
      "source": [
        "model = keras.models.Sequential([\n",
        "  keras.layers.Dense(30, activation=\"relu\", input_shape=X_train.shape[1:]),\n",
        "  keras.layers.Dense(1)\n",
        "])"
      ],
      "execution_count": null,
      "outputs": []
    },
    {
      "cell_type": "code",
      "metadata": {
        "id": "utxAuftozerk",
        "colab_type": "code",
        "colab": {}
      },
      "source": [
        "model.compile(loss=\"mean_squared_error\", optimizer=\"sgd\")"
      ],
      "execution_count": null,
      "outputs": []
    },
    {
      "cell_type": "code",
      "metadata": {
        "id": "KPH4EUMhze2J",
        "colab_type": "code",
        "colab": {
          "base_uri": "https://localhost:8080/",
          "height": 1000
        },
        "outputId": "3a87ccad-43b4-4bcd-cf4f-fbd1fc90caa2"
      },
      "source": [
        "history = model.fit(X_train, y_train, epochs=30, validation_data=(X_val, y_val))"
      ],
      "execution_count": null,
      "outputs": [
        {
          "output_type": "stream",
          "text": [
            "Epoch 1/30\n",
            "363/363 [==============================] - 1s 1ms/step - loss: 0.8674 - val_loss: 0.5168\n",
            "Epoch 2/30\n",
            "363/363 [==============================] - 0s 1ms/step - loss: 0.4956 - val_loss: 0.4494\n",
            "Epoch 3/30\n",
            "363/363 [==============================] - 0s 1ms/step - loss: 0.4492 - val_loss: 0.4295\n",
            "Epoch 4/30\n",
            "363/363 [==============================] - 0s 1ms/step - loss: 0.4300 - val_loss: 0.4167\n",
            "Epoch 5/30\n",
            "363/363 [==============================] - 0s 1ms/step - loss: 0.4205 - val_loss: 0.4042\n",
            "Epoch 6/30\n",
            "363/363 [==============================] - 0s 1ms/step - loss: 0.4139 - val_loss: 0.3947\n",
            "Epoch 7/30\n",
            "363/363 [==============================] - 0s 1ms/step - loss: 0.4095 - val_loss: 0.3932\n",
            "Epoch 8/30\n",
            "363/363 [==============================] - 0s 1ms/step - loss: 0.4033 - val_loss: 0.4148\n",
            "Epoch 9/30\n",
            "363/363 [==============================] - 0s 1ms/step - loss: 0.4102 - val_loss: 0.3863\n",
            "Epoch 10/30\n",
            "363/363 [==============================] - 0s 1ms/step - loss: 0.3952 - val_loss: 0.3829\n",
            "Epoch 11/30\n",
            "363/363 [==============================] - 0s 1ms/step - loss: 0.3901 - val_loss: 0.3761\n",
            "Epoch 12/30\n",
            "363/363 [==============================] - 0s 1ms/step - loss: 0.4288 - val_loss: 0.3772\n",
            "Epoch 13/30\n",
            "363/363 [==============================] - 0s 1ms/step - loss: 0.3859 - val_loss: 0.3853\n",
            "Epoch 14/30\n",
            "363/363 [==============================] - 0s 1ms/step - loss: 0.3845 - val_loss: 0.3718\n",
            "Epoch 15/30\n",
            "363/363 [==============================] - 0s 1ms/step - loss: 0.3800 - val_loss: 0.3692\n",
            "Epoch 16/30\n",
            "363/363 [==============================] - 0s 1ms/step - loss: 0.3778 - val_loss: 0.3648\n",
            "Epoch 17/30\n",
            "363/363 [==============================] - 0s 1ms/step - loss: 0.3776 - val_loss: 0.3677\n",
            "Epoch 18/30\n",
            "363/363 [==============================] - 0s 1ms/step - loss: 0.3742 - val_loss: 0.3659\n",
            "Epoch 19/30\n",
            "363/363 [==============================] - 0s 1ms/step - loss: 0.3728 - val_loss: 0.3639\n",
            "Epoch 20/30\n",
            "363/363 [==============================] - 0s 1ms/step - loss: 0.3715 - val_loss: 0.3659\n",
            "Epoch 21/30\n",
            "363/363 [==============================] - 0s 1ms/step - loss: 0.3741 - val_loss: 0.3585\n",
            "Epoch 22/30\n",
            "363/363 [==============================] - 0s 1ms/step - loss: 0.3687 - val_loss: 0.3625\n",
            "Epoch 23/30\n",
            "363/363 [==============================] - 0s 1ms/step - loss: 0.3671 - val_loss: 0.3572\n",
            "Epoch 24/30\n",
            "363/363 [==============================] - 0s 1ms/step - loss: 0.3654 - val_loss: 0.3565\n",
            "Epoch 25/30\n",
            "363/363 [==============================] - 0s 1ms/step - loss: 0.3716 - val_loss: 0.3550\n",
            "Epoch 26/30\n",
            "363/363 [==============================] - 0s 1ms/step - loss: 0.3680 - val_loss: 0.3581\n",
            "Epoch 27/30\n",
            "363/363 [==============================] - 0s 1ms/step - loss: 0.3957 - val_loss: 0.3683\n",
            "Epoch 28/30\n",
            "363/363 [==============================] - 0s 1ms/step - loss: 0.3723 - val_loss: 0.3646\n",
            "Epoch 29/30\n",
            "363/363 [==============================] - 0s 1ms/step - loss: 0.3653 - val_loss: 0.3596\n",
            "Epoch 30/30\n",
            "363/363 [==============================] - 0s 1ms/step - loss: 0.3628 - val_loss: 0.3567\n"
          ],
          "name": "stdout"
        }
      ]
    },
    {
      "cell_type": "code",
      "metadata": {
        "id": "JsvFNmh50DEr",
        "colab_type": "code",
        "colab": {
          "base_uri": "https://localhost:8080/",
          "height": 268
        },
        "outputId": "7a96bdfd-db64-4f2a-b8db-86a16d8c0017"
      },
      "source": [
        "plt.plot(pd.DataFrame(history.history))\n",
        "plt.grid(True)\n",
        "plt.gca().set_ylim(0, 1)\n",
        "plt.show()"
      ],
      "execution_count": null,
      "outputs": [
        {
          "output_type": "display_data",
          "data": {
            "image/png": "[encoded data removed]",
            "text/plain": [
              "<Figure size 432x288 with 1 Axes>"
            ]
          },
          "metadata": {
            "tags": [],
            "needs_background": "light"
          }
        }
      ]
    },
    {
      "cell_type": "code",
      "metadata": {
        "id": "VetM8K7SzmYO",
        "colab_type": "code",
        "colab": {
          "base_uri": "https://localhost:8080/",
          "height": 51
        },
        "outputId": "72391ce0-25a6-4ff9-8409-4ce238161266"
      },
      "source": [
        "mse_test = model.evaluate(X_test, y_test)\n",
        "mse_test"
      ],
      "execution_count": null,
      "outputs": [
        {
          "output_type": "stream",
          "text": [
            "162/162 [==============================] - 0s 867us/step - loss: 0.3614\n"
          ],
          "name": "stdout"
        },
        {
          "output_type": "execute_result",
          "data": {
            "text/plain": [
              "0.36143454909324646"
            ]
          },
          "metadata": {
            "tags": []
          },
          "execution_count": 46
        }
      ]
    },
    {
      "cell_type": "code",
      "metadata": {
        "id": "8tvdB47MTSUQ",
        "colab_type": "code",
        "colab": {}
      },
      "source": [
        "X_new = X_test[:3] # pretend these are new instances"
      ],
      "execution_count": 11,
      "outputs": []
    },
    {
      "cell_type": "code",
      "metadata": {
        "id": "jlM-G_sezuVF",
        "colab_type": "code",
        "colab": {
          "base_uri": "https://localhost:8080/",
          "height": 68
        },
        "outputId": "447c28c1-2dc4-4609-a8b4-187a489f4918"
      },
      "source": [
        "y_pred = model.predict(X_new)\n",
        "y_pred"
      ],
      "execution_count": null,
      "outputs": [
        {
          "output_type": "execute_result",
          "data": {
            "text/plain": [
              "array([[1.7458103],\n",
              "       [1.8336592],\n",
              "       [1.9972527]], dtype=float32)"
            ]
          },
          "metadata": {
            "tags": []
          },
          "execution_count": 48
        }
      ]
    },
    {
      "cell_type": "markdown",
      "metadata": {
        "id": "Qa7t6JFxM1xB",
        "colab_type": "text"
      },
      "source": [
        "# **Functional API**\n",
        "- Used to build NN models with complex topologies, or multiple i/p, o/p.\n",
        "- Ex: Wide and Deep NN.\n",
        "![image.png](data:image/png;base64,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)\n",
        "  - Connects all or part of the input to the output layer\n",
        "  - This arch. makes it possible for the NN to learn deep patterns and simple rules.\n",
        "  - In a regular MLP, data passes thru the entire stack of layers and the short path connection does not exist. Therefore simple patterns in the data may be distorted by the sequence of transformations.\n"
      ]
    },
    {
      "cell_type": "code",
      "metadata": {
        "id": "fAF6YmSYNJbk",
        "colab_type": "code",
        "colab": {}
      },
      "source": [
        "inputLayer = keras.layers.Input(shape=X_train.shape[1:])\n",
        "hidden1 = keras.layers.Dense(30, activation='relu')(inputLayer) #Pass the inputLayer like a param. Tells Keras how to connect the layers. \n",
        "hidden2 = keras.layers.Dense(30, activation='relu')(hidden1)\n",
        "concat = keras.layers.Concatenate()([inputLayer, hidden2])  #Concatenate the output of the input layer and the second hidden layer.\n",
        "output = keras.layers.Dense(1)(concat)\n",
        "model = keras.Model(inputs=[inputLayer], outputs=[output])"
      ],
      "execution_count": 37,
      "outputs": []
    },
    {
      "cell_type": "code",
      "metadata": {
        "id": "XIpeqUEOSbht",
        "colab_type": "code",
        "colab": {
          "base_uri": "https://localhost:8080/",
          "height": 342
        },
        "outputId": "593fa955-2423-4983-de0f-3fdd5c645406"
      },
      "source": [
        "model.summary()"
      ],
      "execution_count": 38,
      "outputs": [
        {
          "output_type": "stream",
          "text": [
            "Model: \"functional_9\"\n",
            "__________________________________________________________________________________________________\n",
            "Layer (type)                    Output Shape         Param #     Connected to                     \n",
            "==================================================================================================\n",
            "input_4 (InputLayer)            [(None, 8)]          0                                            \n",
            "__________________________________________________________________________________________________\n",
            "dense_15 (Dense)                (None, 30)           270         input_4[0][0]                    \n",
            "__________________________________________________________________________________________________\n",
            "dense_16 (Dense)                (None, 30)           930         dense_15[0][0]                   \n",
            "__________________________________________________________________________________________________\n",
            "concatenate_6 (Concatenate)     (None, 38)           0           input_4[0][0]                    \n",
            "                                                                 dense_16[0][0]                   \n",
            "__________________________________________________________________________________________________\n",
            "dense_17 (Dense)                (None, 1)            39          concatenate_6[0][0]              \n",
            "==================================================================================================\n",
            "Total params: 1,239\n",
            "Trainable params: 1,239\n",
            "Non-trainable params: 0\n",
            "__________________________________________________________________________________________________\n"
          ],
          "name": "stdout"
        }
      ]
    },
    {
      "cell_type": "code",
      "metadata": {
        "id": "enAyhvlFShS6",
        "colab_type": "code",
        "colab": {}
      },
      "source": [
        "model.compile(loss='mean_squared_error', optimizer=keras.optimizers.SGD(learning_rate=1e-3))"
      ],
      "execution_count": 39,
      "outputs": []
    },
    {
      "cell_type": "code",
      "metadata": {
        "id": "zC99jARwS288",
        "colab_type": "code",
        "colab": {
          "base_uri": "https://localhost:8080/",
          "height": 1000
        },
        "outputId": "541fce89-7574-4be4-b7f9-f6828748900e"
      },
      "source": [
        "history = model.fit(X_train, y_train, epochs=40, validation_data=(X_val, y_val))"
      ],
      "execution_count": 40,
      "outputs": [
        {
          "output_type": "stream",
          "text": [
            "Epoch 1/40\n",
            "363/363 [==============================] - 1s 2ms/step - loss: 2.1153 - val_loss: 0.8937\n",
            "Epoch 2/40\n",
            "363/363 [==============================] - 0s 1ms/step - loss: 0.7749 - val_loss: 0.6985\n",
            "Epoch 3/40\n",
            "363/363 [==============================] - 0s 1ms/step - loss: 0.6802 - val_loss: 0.6633\n",
            "Epoch 4/40\n",
            "363/363 [==============================] - 0s 1ms/step - loss: 0.6473 - val_loss: 0.6321\n",
            "Epoch 5/40\n",
            "363/363 [==============================] - 0s 1ms/step - loss: 0.6211 - val_loss: 0.6036\n",
            "Epoch 6/40\n",
            "363/363 [==============================] - 0s 1ms/step - loss: 0.6000 - val_loss: 0.5883\n",
            "Epoch 7/40\n",
            "363/363 [==============================] - 0s 1ms/step - loss: 0.5805 - val_loss: 0.5647\n",
            "Epoch 8/40\n",
            "363/363 [==============================] - 0s 1ms/step - loss: 0.5666 - val_loss: 0.5537\n",
            "Epoch 9/40\n",
            "363/363 [==============================] - 0s 1ms/step - loss: 0.5530 - val_loss: 0.5411\n",
            "Epoch 10/40\n",
            "363/363 [==============================] - 0s 1ms/step - loss: 0.5429 - val_loss: 0.5314\n",
            "Epoch 11/40\n",
            "363/363 [==============================] - 0s 1ms/step - loss: 0.5328 - val_loss: 0.5220\n",
            "Epoch 12/40\n",
            "363/363 [==============================] - 0s 1ms/step - loss: 0.5244 - val_loss: 0.5163\n",
            "Epoch 13/40\n",
            "363/363 [==============================] - 0s 1ms/step - loss: 0.5172 - val_loss: 0.5035\n",
            "Epoch 14/40\n",
            "363/363 [==============================] - 0s 1ms/step - loss: 0.5113 - val_loss: 0.4976\n",
            "Epoch 15/40\n",
            "363/363 [==============================] - 0s 1ms/step - loss: 0.5054 - val_loss: 0.4929\n",
            "Epoch 16/40\n",
            "363/363 [==============================] - 0s 1ms/step - loss: 0.5003 - val_loss: 0.4876\n",
            "Epoch 17/40\n",
            "363/363 [==============================] - 0s 1ms/step - loss: 0.4957 - val_loss: 0.4836\n",
            "Epoch 18/40\n",
            "363/363 [==============================] - 0s 1ms/step - loss: 0.4910 - val_loss: 0.4778\n",
            "Epoch 19/40\n",
            "363/363 [==============================] - 0s 1ms/step - loss: 0.4866 - val_loss: 0.4736\n",
            "Epoch 20/40\n",
            "363/363 [==============================] - 0s 1ms/step - loss: 0.4836 - val_loss: 0.4693\n",
            "Epoch 21/40\n",
            "363/363 [==============================] - 0s 1ms/step - loss: 0.4801 - val_loss: 0.4695\n",
            "Epoch 22/40\n",
            "363/363 [==============================] - 0s 1ms/step - loss: 0.4764 - val_loss: 0.4619\n",
            "Epoch 23/40\n",
            "363/363 [==============================] - 0s 1ms/step - loss: 0.4735 - val_loss: 0.4589\n",
            "Epoch 24/40\n",
            "363/363 [==============================] - 0s 1ms/step - loss: 0.4708 - val_loss: 0.4570\n",
            "Epoch 25/40\n",
            "363/363 [==============================] - 0s 1ms/step - loss: 0.4672 - val_loss: 0.4530\n",
            "Epoch 26/40\n",
            "363/363 [==============================] - 0s 1ms/step - loss: 0.4660 - val_loss: 0.4523\n",
            "Epoch 27/40\n",
            "363/363 [==============================] - 0s 1ms/step - loss: 0.4619 - val_loss: 0.4484\n",
            "Epoch 28/40\n",
            "363/363 [==============================] - 0s 1ms/step - loss: 0.4602 - val_loss: 0.4485\n",
            "Epoch 29/40\n",
            "363/363 [==============================] - 0s 1ms/step - loss: 0.4577 - val_loss: 0.4472\n",
            "Epoch 30/40\n",
            "363/363 [==============================] - 0s 1ms/step - loss: 0.4554 - val_loss: 0.4419\n",
            "Epoch 31/40\n",
            "363/363 [==============================] - 0s 1ms/step - loss: 0.4551 - val_loss: 0.4414\n",
            "Epoch 32/40\n",
            "363/363 [==============================] - 0s 1ms/step - loss: 0.4516 - val_loss: 0.4374\n",
            "Epoch 33/40\n",
            "363/363 [==============================] - 0s 1ms/step - loss: 0.4492 - val_loss: 0.4356\n",
            "Epoch 34/40\n",
            "363/363 [==============================] - 0s 1ms/step - loss: 0.4475 - val_loss: 0.4336\n",
            "Epoch 35/40\n",
            "363/363 [==============================] - 0s 1ms/step - loss: 0.4453 - val_loss: 0.4317\n",
            "Epoch 36/40\n",
            "363/363 [==============================] - 0s 1ms/step - loss: 0.4430 - val_loss: 0.4295\n",
            "Epoch 37/40\n",
            "363/363 [==============================] - 0s 1ms/step - loss: 0.4416 - val_loss: 0.4335\n",
            "Epoch 38/40\n",
            "363/363 [==============================] - 0s 1ms/step - loss: 0.4387 - val_loss: 0.4272\n",
            "Epoch 39/40\n",
            "363/363 [==============================] - 0s 1ms/step - loss: 0.4382 - val_loss: 0.4245\n",
            "Epoch 40/40\n",
            "363/363 [==============================] - 0s 1ms/step - loss: 0.4367 - val_loss: 0.4235\n"
          ],
          "name": "stdout"
        }
      ]
    },
    {
      "cell_type": "code",
      "metadata": {
        "id": "zFVaStqpS_Gm",
        "colab_type": "code",
        "colab": {
          "base_uri": "https://localhost:8080/",
          "height": 85
        },
        "outputId": "d5ccda83-a156-457c-fc71-a415a33d9c39"
      },
      "source": [
        "mse_test = model.evaluate(X_test, y_test)\n",
        "y_pred = model.predict(X_new)\n",
        "y_pred"
      ],
      "execution_count": 41,
      "outputs": [
        {
          "output_type": "stream",
          "text": [
            "162/162 [==============================] - 0s 780us/step - loss: 0.4206\n"
          ],
          "name": "stdout"
        },
        {
          "output_type": "execute_result",
          "data": {
            "text/plain": [
              "array([[2.8242235],\n",
              "       [2.7889762],\n",
              "       [1.3134944]], dtype=float32)"
            ]
          },
          "metadata": {
            "tags": []
          },
          "execution_count": 41
        }
      ]
    },
    {
      "cell_type": "code",
      "metadata": {
        "id": "Ibr3QhbbTetr",
        "colab_type": "code",
        "colab": {}
      },
      "source": [
        "def plot_curves(history):\n",
        "  plt.plot(pd.DataFrame(history.history))\n",
        "  plt.grid(True)\n",
        "  plt.gca().set_ylim(0, 1)\n",
        "  plt.show()"
      ],
      "execution_count": 34,
      "outputs": []
    },
    {
      "cell_type": "code",
      "metadata": {
        "id": "d7LexQ8YWTvg",
        "colab_type": "code",
        "colab": {
          "base_uri": "https://localhost:8080/",
          "height": 268
        },
        "outputId": "76850ce9-5015-4fec-ad0a-fce2fce76f0a"
      },
      "source": [
        "plot_curves(history)"
      ],
      "execution_count": 42,
      "outputs": [
        {
          "output_type": "display_data",
          "data": {
            "image/png": "[encoded data removed]",
            "text/plain": [
              "<Figure size 432x288 with 1 Axes>"
            ]
          },
          "metadata": {
            "tags": [],
            "needs_background": "light"
          }
        }
      ]
    },
    {
      "cell_type": "markdown",
      "metadata": {
        "id": "qRvw1ArGR3AU",
        "colab_type": "text"
      },
      "source": [
        "![image.png](data:image/png;base64,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)"
      ]
    },
    {
      "cell_type": "markdown",
      "metadata": {
        "id": "OqDSWw3nR4uO",
        "colab_type": "text"
      },
      "source": [
        "- What if we want to send a few features thru the wide path and a few via the deep path?"
      ]
    },
    {
      "cell_type": "code",
      "metadata": {
        "id": "C6oTW-5FSDwO",
        "colab_type": "code",
        "colab": {}
      },
      "source": [
        "input_A = keras.layers.Input(shape=[5], name='wide_input')\n",
        "input_B = keras.layers.Input(shape=[6], name='deep_input')\n",
        "hidden1_2 = keras.layers.Dense(30, activation='relu')(input_B)\n",
        "hidden2_2 = keras.layers.Dense(30, activation='relu')(hidden1_2)\n",
        "concat_2  = keras.layers.Concatenate()([input_A, hidden2_2])\n",
        "output_2 = keras.layers.Dense(1, name='output')(concat_2)\n",
        "model = keras.models.Model(inputs=[input_A, input_B], outputs=[output_2])"
      ],
      "execution_count": 28,
      "outputs": []
    },
    {
      "cell_type": "code",
      "metadata": {
        "id": "h9Oey8UyVLj0",
        "colab_type": "code",
        "colab": {}
      },
      "source": [
        "model.compile(loss='mse', optimizer=keras.optimizers.SGD(learning_rate=1e-3))"
      ],
      "execution_count": 29,
      "outputs": []
    },
    {
      "cell_type": "code",
      "metadata": {
        "id": "pFGQLEx5VlCB",
        "colab_type": "code",
        "colab": {}
      },
      "source": [
        "X_train_A, X_train_B = X_train[:, :5], X_train[:, 2:]\n",
        "X_val_A, X_val_B = X_val[:, :5], X_val[:, 2:]\n",
        "X_test_A, X_test_B = X_test[:, :5], X_test[:, 2:]\n",
        "X_new_A, X_new_B = X_test_A[:3], X_test_B[:3]"
      ],
      "execution_count": 31,
      "outputs": []
    },
    {
      "cell_type": "code",
      "metadata": {
        "id": "Iz-7OSTYV0Z2",
        "colab_type": "code",
        "colab": {
          "base_uri": "https://localhost:8080/",
          "height": 1000
        },
        "outputId": "7f9187a4-af82-4e46-9df6-2e38613a5671"
      },
      "source": [
        "history = model.fit((X_train_A, X_train_B), y_train, epochs=40, validation_data=((X_val_A, X_val_B), y_val))"
      ],
      "execution_count": 32,
      "outputs": [
        {
          "output_type": "stream",
          "text": [
            "Epoch 1/40\n",
            "363/363 [==============================] - 1s 2ms/step - loss: 2.2836 - val_loss: 0.9695\n",
            "Epoch 2/40\n",
            "363/363 [==============================] - 1s 1ms/step - loss: 0.8432 - val_loss: 0.7017\n",
            "Epoch 3/40\n",
            "363/363 [==============================] - 0s 1ms/step - loss: 0.6801 - val_loss: 0.6361\n",
            "Epoch 4/40\n",
            "363/363 [==============================] - 0s 1ms/step - loss: 0.6344 - val_loss: 0.6028\n",
            "Epoch 5/40\n",
            "363/363 [==============================] - 0s 1ms/step - loss: 0.6113 - val_loss: 0.5840\n",
            "Epoch 6/40\n",
            "363/363 [==============================] - 0s 1ms/step - loss: 0.5929 - val_loss: 0.5656\n",
            "Epoch 7/40\n",
            "363/363 [==============================] - 0s 1ms/step - loss: 0.5776 - val_loss: 0.5530\n",
            "Epoch 8/40\n",
            "363/363 [==============================] - 0s 1ms/step - loss: 0.5653 - val_loss: 0.5406\n",
            "Epoch 9/40\n",
            "363/363 [==============================] - 0s 1ms/step - loss: 0.5550 - val_loss: 0.5338\n",
            "Epoch 10/40\n",
            "363/363 [==============================] - 0s 1ms/step - loss: 0.5447 - val_loss: 0.5232\n",
            "Epoch 11/40\n",
            "363/363 [==============================] - 0s 1ms/step - loss: 0.5376 - val_loss: 0.5160\n",
            "Epoch 12/40\n",
            "363/363 [==============================] - 0s 1ms/step - loss: 0.5308 - val_loss: 0.5111\n",
            "Epoch 13/40\n",
            "363/363 [==============================] - 0s 1ms/step - loss: 0.5259 - val_loss: 0.5048\n",
            "Epoch 14/40\n",
            "363/363 [==============================] - 0s 1ms/step - loss: 0.5203 - val_loss: 0.5009\n",
            "Epoch 15/40\n",
            "363/363 [==============================] - 1s 1ms/step - loss: 0.5168 - val_loss: 0.4975\n",
            "Epoch 16/40\n",
            "363/363 [==============================] - 0s 1ms/step - loss: 0.5124 - val_loss: 0.4960\n",
            "Epoch 17/40\n",
            "363/363 [==============================] - 0s 1ms/step - loss: 0.5084 - val_loss: 0.4912\n",
            "Epoch 18/40\n",
            "363/363 [==============================] - 0s 1ms/step - loss: 0.5051 - val_loss: 0.4880\n",
            "Epoch 19/40\n",
            "363/363 [==============================] - 1s 1ms/step - loss: 0.5021 - val_loss: 0.4845\n",
            "Epoch 20/40\n",
            "363/363 [==============================] - 0s 1ms/step - loss: 0.4993 - val_loss: 0.4820\n",
            "Epoch 21/40\n",
            "363/363 [==============================] - 1s 1ms/step - loss: 0.4966 - val_loss: 0.4800\n",
            "Epoch 22/40\n",
            "363/363 [==============================] - 0s 1ms/step - loss: 0.4940 - val_loss: 0.4777\n",
            "Epoch 23/40\n",
            "363/363 [==============================] - 1s 1ms/step - loss: 0.4916 - val_loss: 0.4762\n",
            "Epoch 24/40\n",
            "363/363 [==============================] - 0s 1ms/step - loss: 0.4893 - val_loss: 0.4742\n",
            "Epoch 25/40\n",
            "363/363 [==============================] - 1s 1ms/step - loss: 0.4874 - val_loss: 0.4718\n",
            "Epoch 26/40\n",
            "363/363 [==============================] - 0s 1ms/step - loss: 0.4852 - val_loss: 0.4699\n",
            "Epoch 27/40\n",
            "363/363 [==============================] - 0s 1ms/step - loss: 0.4836 - val_loss: 0.4679\n",
            "Epoch 28/40\n",
            "363/363 [==============================] - 0s 1ms/step - loss: 0.4813 - val_loss: 0.4664\n",
            "Epoch 29/40\n",
            "363/363 [==============================] - 0s 1ms/step - loss: 0.4796 - val_loss: 0.4652\n",
            "Epoch 30/40\n",
            "363/363 [==============================] - 0s 1ms/step - loss: 0.4780 - val_loss: 0.4643\n",
            "Epoch 31/40\n",
            "363/363 [==============================] - 1s 1ms/step - loss: 0.4762 - val_loss: 0.4617\n",
            "Epoch 32/40\n",
            "363/363 [==============================] - 0s 1ms/step - loss: 0.4745 - val_loss: 0.4614\n",
            "Epoch 33/40\n",
            "363/363 [==============================] - 1s 1ms/step - loss: 0.4731 - val_loss: 0.4599\n",
            "Epoch 34/40\n",
            "363/363 [==============================] - 0s 1ms/step - loss: 0.4715 - val_loss: 0.4579\n",
            "Epoch 35/40\n",
            "363/363 [==============================] - 0s 1ms/step - loss: 0.4699 - val_loss: 0.4574\n",
            "Epoch 36/40\n",
            "363/363 [==============================] - 0s 1ms/step - loss: 0.4688 - val_loss: 0.4573\n",
            "Epoch 37/40\n",
            "363/363 [==============================] - 0s 1ms/step - loss: 0.4676 - val_loss: 0.4536\n",
            "Epoch 38/40\n",
            "363/363 [==============================] - 0s 1ms/step - loss: 0.4661 - val_loss: 0.4537\n",
            "Epoch 39/40\n",
            "363/363 [==============================] - 0s 1ms/step - loss: 0.4647 - val_loss: 0.4524\n",
            "Epoch 40/40\n",
            "363/363 [==============================] - 0s 1ms/step - loss: 0.4635 - val_loss: 0.4510\n"
          ],
          "name": "stdout"
        }
      ]
    },
    {
      "cell_type": "code",
      "metadata": {
        "id": "7Eq6OdS0WAal",
        "colab_type": "code",
        "colab": {
          "base_uri": "https://localhost:8080/",
          "height": 85
        },
        "outputId": "b911ae56-f48b-4f5e-bca4-56bd71c96375"
      },
      "source": [
        "mse_test = model.evaluate((X_test_A, X_test_B), y_test)\n",
        "y_pred = model.predict((X_new_A, X_new_B))\n",
        "y_pred"
      ],
      "execution_count": 33,
      "outputs": [
        {
          "output_type": "stream",
          "text": [
            "162/162 [==============================] - 0s 1ms/step - loss: 0.4515\n"
          ],
          "name": "stdout"
        },
        {
          "output_type": "execute_result",
          "data": {
            "text/plain": [
              "array([[2.8282063],\n",
              "       [2.6983597],\n",
              "       [1.0469553]], dtype=float32)"
            ]
          },
          "metadata": {
            "tags": []
          },
          "execution_count": 33
        }
      ]
    },
    {
      "cell_type": "code",
      "metadata": {
        "id": "EY1vDDvpWKvK",
        "colab_type": "code",
        "colab": {
          "base_uri": "https://localhost:8080/",
          "height": 268
        },
        "outputId": "9ced0df1-6dae-4084-cd6e-3fb6bbab5013"
      },
      "source": [
        "plot_curves(history)"
      ],
      "execution_count": 36,
      "outputs": [
        {
          "output_type": "display_data",
          "data": {
            "image/png": "[encoded data removed]",
            "text/plain": [
              "<Figure size 432x288 with 1 Axes>"
            ]
          },
          "metadata": {
            "tags": [],
            "needs_background": "light"
          }
        }
      ]
    },
    {
      "cell_type": "markdown",
      "metadata": {
        "id": "AFiyhNfuYvBH",
        "colab_type": "text"
      },
      "source": [
        "# **Subclassing API**\n",
        "- Advantages of Functional and Sequential API (Declarative APIs wherein we declare the layers and the connections between them):\n",
        "  - Model can be easily saved, cloned and shared.\n",
        "  - It's structure can be displayed and analyzed.\n",
        "  - Framework can infer shapes and check types therefore errors can be caught early.\n",
        "- For dynamic behaviors like loops, conditional branching etc we use the Subclassing API.\n",
        "  - Separate the creation of the layers from their usage in the call() method."
      ]
    },
    {
      "cell_type": "code",
      "metadata": {
        "id": "WjK8LAxxbMEs",
        "colab_type": "code",
        "colab": {}
      },
      "source": [
        "class WideAndDeepModel(keras.Model):\n",
        "  def __init__(self, units=30, activation='relu', **kwargs):\n",
        "    super().__init__(**kwargs) # handles standard args (e.g., name)\n",
        "    self.hidden1 = keras.layers.Dense(units, activation=activation)\n",
        "    self.hidden2 = keras.layers.Dense(units, activation=activation)\n",
        "    self.main_output = keras.layers.Dense(1)\n",
        "    self.aux_output = keras.layers.Dense(1)\n",
        "\n",
        "  def call(self, inputs):\n",
        "    input_A, input_B = inputs\n",
        "    hidden1 = self.hidden1(input_B)\n",
        "    hidden2 = self.hidden2(hidden1)\n",
        "    concat = keras.layers.concatenate([input_A, hidden2])\n",
        "    main_output = self.main_output(concat)\n",
        "    aux_output = self.aux_output(hidden2)\n",
        "    return main_output, aux_output"
      ],
      "execution_count": 52,
      "outputs": []
    },
    {
      "cell_type": "code",
      "metadata": {
        "id": "oy3vvpwqbmZS",
        "colab_type": "code",
        "colab": {}
      },
      "source": [
        "model = WideAndDeepModel(30, activation='relu')"
      ],
      "execution_count": 53,
      "outputs": []
    },
    {
      "cell_type": "code",
      "metadata": {
        "id": "CnNltpSycTdi",
        "colab_type": "code",
        "colab": {}
      },
      "source": [
        "model.compile(loss=\"mse\", loss_weights=[0.9, 0.1], optimizer=keras.optimizers.SGD(lr=1e-3))"
      ],
      "execution_count": 54,
      "outputs": []
    },
    {
      "cell_type": "code",
      "metadata": {
        "id": "oh9RRnA0cW9d",
        "colab_type": "code",
        "colab": {
          "base_uri": "https://localhost:8080/",
          "height": 380
        },
        "outputId": "320ee5ab-6885-44a0-a536-6aa0b20abbc7"
      },
      "source": [
        "history = model.fit((X_train_A, X_train_B), (y_train, y_train), epochs=10,\n",
        "                    validation_data=((X_val_A, X_val_B), (y_val, y_val)))"
      ],
      "execution_count": 55,
      "outputs": [
        {
          "output_type": "stream",
          "text": [
            "Epoch 1/10\n",
            "363/363 [==============================] - 1s 2ms/step - loss: 2.9222 - output_1_loss: 2.7885 - output_2_loss: 4.1259 - val_loss: 1.3730 - val_output_1_loss: 1.1537 - val_output_2_loss: 3.3466\n",
            "Epoch 2/10\n",
            "363/363 [==============================] - 1s 1ms/step - loss: 1.1100 - output_1_loss: 0.9124 - output_2_loss: 2.8892 - val_loss: 0.9150 - val_output_1_loss: 0.7491 - val_output_2_loss: 2.4085\n",
            "Epoch 3/10\n",
            "363/363 [==============================] - 1s 1ms/step - loss: 0.8537 - output_1_loss: 0.7070 - output_2_loss: 2.1743 - val_loss: 0.7849 - val_output_1_loss: 0.6596 - val_output_2_loss: 1.9121\n",
            "Epoch 4/10\n",
            "363/363 [==============================] - 1s 1ms/step - loss: 0.7622 - output_1_loss: 0.6475 - output_2_loss: 1.7943 - val_loss: 0.7223 - val_output_1_loss: 0.6182 - val_output_2_loss: 1.6584\n",
            "Epoch 5/10\n",
            "363/363 [==============================] - 1s 1ms/step - loss: 0.7133 - output_1_loss: 0.6157 - output_2_loss: 1.5923 - val_loss: 0.6839 - val_output_1_loss: 0.5911 - val_output_2_loss: 1.5190\n",
            "Epoch 6/10\n",
            "363/363 [==============================] - 1s 2ms/step - loss: 0.6808 - output_1_loss: 0.5927 - output_2_loss: 1.4742 - val_loss: 0.6571 - val_output_1_loss: 0.5710 - val_output_2_loss: 1.4325\n",
            "Epoch 7/10\n",
            "363/363 [==============================] - 1s 1ms/step - loss: 0.6569 - output_1_loss: 0.5747 - output_2_loss: 1.3967 - val_loss: 0.6359 - val_output_1_loss: 0.5539 - val_output_2_loss: 1.3742\n",
            "Epoch 8/10\n",
            "363/363 [==============================] - 1s 1ms/step - loss: 0.6379 - output_1_loss: 0.5598 - output_2_loss: 1.3409 - val_loss: 0.6191 - val_output_1_loss: 0.5400 - val_output_2_loss: 1.3314\n",
            "Epoch 9/10\n",
            "363/363 [==============================] - 1s 1ms/step - loss: 0.6230 - output_1_loss: 0.5478 - output_2_loss: 1.2994 - val_loss: 0.6064 - val_output_1_loss: 0.5298 - val_output_2_loss: 1.2959\n",
            "Epoch 10/10\n",
            "363/363 [==============================] - 1s 1ms/step - loss: 0.6102 - output_1_loss: 0.5377 - output_2_loss: 1.2631 - val_loss: 0.5951 - val_output_1_loss: 0.5203 - val_output_2_loss: 1.2681\n"
          ],
          "name": "stdout"
        }
      ]
    },
    {
      "cell_type": "code",
      "metadata": {
        "id": "_JkMyskMchE1",
        "colab_type": "code",
        "colab": {
          "base_uri": "https://localhost:8080/",
          "height": 34
        },
        "outputId": "182dd79e-3159-43f8-e0ed-7754859a6656"
      },
      "source": [
        "total_loss, main_loss, aux_loss = model.evaluate((X_test_A, X_test_B), (y_test, y_test))\n",
        "y_pred_main, y_pred_aux = model.predict((X_new_A, X_new_B))"
      ],
      "execution_count": 57,
      "outputs": [
        {
          "output_type": "stream",
          "text": [
            "162/162 [==============================] - 0s 1ms/step - loss: 0.5933 - output_1_loss: 0.5227 - output_2_loss: 1.2287\n"
          ],
          "name": "stdout"
        }
      ]
    },
    {
      "cell_type": "code",
      "metadata": {
        "id": "9f0uBSuHb_xG",
        "colab_type": "code",
        "colab": {
          "base_uri": "https://localhost:8080/",
          "height": 34
        },
        "outputId": "93089292-00d3-4374-9015-28c5680fa9c6"
      },
      "source": [
        "model.summary #Not really helpful "
      ],
      "execution_count": 58,
      "outputs": [
        {
          "output_type": "execute_result",
          "data": {
            "text/plain": [
              "<bound method Model.summary of <__main__.WideAndDeepModel object at 0x7f6bf8b7eda0>>"
            ]
          },
          "metadata": {
            "tags": []
          },
          "execution_count": 58
        }
      ]
    },
    {
      "cell_type": "markdown",
      "metadata": {
        "id": "PjbjjNK3dEMq",
        "colab_type": "text"
      },
      "source": [
        "# **Saving and Restoring a Model**\n",
        "- HDF5 format used to save: \n",
        "  - The model’s architecture(including every layer’s hyperparameters)\n",
        "  - The values of all the model parameters for every layer (e.g., connection weights and biases)\n",
        "  - The optimizer (including its hyperparameters and any state it may\n",
        "have)."
      ]
    },
    {
      "cell_type": "code",
      "metadata": {
        "id": "LX7R0xHndNKZ",
        "colab_type": "code",
        "colab": {}
      },
      "source": [
        "np.random.seed(42)\n",
        "tf.random.set_seed(42)"
      ],
      "execution_count": 59,
      "outputs": []
    }
  ]
}