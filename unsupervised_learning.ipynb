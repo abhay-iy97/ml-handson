{
 "cells": [
  {
   "cell_type": "markdown",
   "metadata": {},
   "source": [
    "# Unsupervised Learning Techniques"
   ]
  },
  {
   "cell_type": "markdown",
   "metadata": {},
   "source": [
    "- Clustering\n",
    "    - Group similar instances into clusters.\n",
    "    - Applications: Customer segmentation, recommender systems, search engines etc.\n",
    "- Anomaly detection\n",
    "    - Find outliers\n",
    "    - Fraud detection, finding defective items etc.\n",
    "- Density estimation\n",
    "    - Task of estimating the probability density function(PDF) of the random process which generates the dataset. \n",
    "    - Commonly used for anomaly detection."
   ]
  },
  {
   "cell_type": "markdown",
   "metadata": {},
   "source": [
    "## Clustering\n",
    "- Applications\n",
    "    - Customer segmentation (recommender systems)\n",
    "    - Data analysis\n",
    "    - Dimensionality reduction technique\n",
    "    - Anomaly detection (Any instance which is far away from the clusters is likely to be an anomaly)\n",
    "    - Semi-supervised learning (If only a few instances are labeled, then these labels can be propagated to other instances in the cluster)\n",
    "    - Search engines (clusters of similar images)\n",
    "    - Image segmentation."
   ]
  },
  {
   "cell_type": "markdown",
   "metadata": {},
   "source": [
    "### K-Means (Llyold-Forgy)\n",
    "- Clustering algo.\n",
    "- Algo is usually guaranteed to converge in a finite number of steps. Although it may converge to a local optimum.\n",
    "- Algo:\n",
    "    - Random centroid initialization.\n",
    "    - Form the clusters based on how closes the instances are to the centroids.\n",
    "    - Update the centroids.\n",
    "    - Recalculate clusters.\n",
    "- To avoid local optimum: Run algo multiple times with different random initializations and keep the best solution.\n",
    "- Scikit uses the model's inertia to get the best solution. (*inertia* is the mean squared distance between each instance and its closest centroid)"
   ]
  },
  {
   "cell_type": "code",
   "execution_count": 1,
   "metadata": {},
   "outputs": [],
   "source": [
    "from sklearn.datasets import make_blobs\n",
    "from sklearn.cluster import MiniBatchKMeans\n",
    "import matplotlib.pyplot as plt\n",
    "import numpy as np\n",
    "from sklearn.metrics import silhouette_score\n",
    "from sklearn.metrics import silhouette_samples\n",
    "from matplotlib.ticker import FixedLocator, FixedFormatter\n",
    "import matplotlib as mpl\n",
    "import cv2\n",
    "from sklearn.datasets import load_digits\n",
    "from sklearn.model_selection import train_test_split\n",
    "from sklearn.linear_model import LogisticRegression\n",
    "from sklearn.pipeline import Pipeline\n",
    "from sklearn.model_selection import GridSearchCV\n",
    "from sklearn.cluster import DBSCAN\n",
    "from sklearn.datasets import make_moons"
   ]
  },
  {
   "cell_type": "code",
   "execution_count": 51,
   "metadata": {},
   "outputs": [
    {
     "data": {
      "text/plain": [
       "(-15, 15)"
      ]
     },
     "execution_count": 51,
     "metadata": {},
     "output_type": "execute_result"
    },
    {
     "data": {
      "image/png": "[encoded data removed]",
      "text/plain": [
       "<Figure size 432x288 with 1 Axes>"
      ]
     },
     "metadata": {
      "needs_background": "light"
     },
     "output_type": "display_data"
    }
   ],
   "source": [
    "# create blobs\n",
    "data = make_blobs(n_samples=200, n_features=2, centers=4, cluster_std=1.6, random_state=50)\n",
    "# create np array for data points\n",
    "points = data[0]\n",
    "# create scatter plot\n",
    "plt.scatter(data[0][:,0], data[0][:,1], c=data[1], cmap='viridis')\n",
    "plt.xlim(-15,15)\n",
    "plt.ylim(-15,15)"
   ]
  },
  {
   "cell_type": "code",
   "execution_count": 52,
   "metadata": {},
   "outputs": [
    {
     "data": {
      "text/plain": [
       "(array([[-1.06705283e+00,  9.24306355e+00],\n",
       "        [ 1.08654318e+00, -6.94815805e+00],\n",
       "        [-2.30970265e+00,  5.84969440e+00],\n",
       "        [-1.59728965e+00,  8.45369045e+00],\n",
       "        [-5.79816711e+00, -3.78405528e+00],\n",
       "        [-2.29833776e+00, -4.66005371e+00],\n",
       "        [-1.68210799e+00,  1.12843423e+01],\n",
       "        [-7.38296450e-01, -5.20135260e+00],\n",
       "        [-1.92048345e-01, -6.45318764e+00],\n",
       "        [-6.37920287e+00, -2.17672355e+00],\n",
       "        [-5.12054803e+00, -2.91449176e+00],\n",
       "        [-4.22297649e+00,  9.04719945e+00],\n",
       "        [-2.67815731e+00, -2.32828819e+00],\n",
       "        [-3.02994109e+00,  1.86959382e+00],\n",
       "        [-5.73938121e+00, -7.25648845e-01],\n",
       "        [-1.99427571e+00,  4.28616868e+00],\n",
       "        [-2.89522086e+00,  1.10222354e+01],\n",
       "        [-1.11286937e+00,  1.03086380e+01],\n",
       "        [-5.19987051e+00, -1.59879364e+00],\n",
       "        [-4.75916597e+00, -1.97047767e+00],\n",
       "        [-6.76865308e+00, -3.56907573e+00],\n",
       "        [-2.65715781e+00,  3.33763714e+00],\n",
       "        [-4.61722463e+00,  1.06373187e+01],\n",
       "        [-1.43729337e+00,  1.12137736e+01],\n",
       "        [-1.98068787e+00,  9.73142838e+00],\n",
       "        [-1.47838268e+00,  4.02156675e+00],\n",
       "        [-3.74580344e+00,  9.15545625e+00],\n",
       "        [-5.51090509e-01, -2.19802594e+00],\n",
       "        [-2.68015629e+00,  5.58489786e+00],\n",
       "        [-1.18697121e-01,  1.04950260e+01],\n",
       "        [ 7.08946126e-02,  1.27161487e+01],\n",
       "        [-6.03097685e+00, -1.01668649e+00],\n",
       "        [-6.43543481e+00,  1.19165025e-01],\n",
       "        [-7.91271326e-01, -5.63231066e+00],\n",
       "        [ 9.02189228e-02, -4.24988128e+00],\n",
       "        [-3.72960397e+00, -2.40552410e+00],\n",
       "        [-5.47201497e+00, -1.29098281e+00],\n",
       "        [-4.50400179e+00, -1.29552557e+00],\n",
       "        [-1.59604970e+00,  7.08952891e+00],\n",
       "        [-2.45285170e+00,  6.35814471e+00],\n",
       "        [-1.02481236e+00,  1.34548122e+01],\n",
       "        [-7.16917808e+00, -3.68305685e+00],\n",
       "        [-2.09444877e+00,  6.60308885e+00],\n",
       "        [-3.08549983e+00,  6.22161479e+00],\n",
       "        [-6.82140576e-01, -4.83269360e+00],\n",
       "        [ 1.64436813e+00, -3.29688399e+00],\n",
       "        [-1.81165386e+00,  9.57286673e+00],\n",
       "        [-1.21769584e-01,  6.51275284e+00],\n",
       "        [-1.65143884e+00,  6.38316168e+00],\n",
       "        [-4.18721798e+00,  8.93800061e+00],\n",
       "        [-1.10703455e+00, -4.83713152e+00],\n",
       "        [-7.62627421e+00, -4.60727232e+00],\n",
       "        [-3.06568887e-01,  5.25844092e+00],\n",
       "        [-1.23581275e+00,  8.35805290e+00],\n",
       "        [-1.85807535e-01,  2.57718893e+00],\n",
       "        [ 7.28797198e-01,  6.06528632e+00],\n",
       "        [-1.70400879e+00, -2.88008464e+00],\n",
       "        [-5.02706384e+00,  7.61298431e-01],\n",
       "        [-6.22443225e+00, -6.57162467e-01],\n",
       "        [-2.90807981e+00,  5.27669491e+00],\n",
       "        [-1.37711368e+00, -5.50047455e+00],\n",
       "        [-5.57986277e-01, -2.70088621e+00],\n",
       "        [-5.68833947e+00,  7.94601173e+00],\n",
       "        [-2.77413056e+00, -5.78872960e+00],\n",
       "        [-1.53159637e+00, -5.42990953e+00],\n",
       "        [-3.22848472e+00,  9.44642918e+00],\n",
       "        [ 9.86777496e-01, -7.30690762e+00],\n",
       "        [-4.42661936e+00,  3.35071015e+00],\n",
       "        [-3.17162516e+00,  1.10347610e+01],\n",
       "        [-4.74516474e+00,  7.89837755e+00],\n",
       "        [ 1.02471465e+00, -4.64795418e+00],\n",
       "        [-6.13566432e+00, -2.93094035e+00],\n",
       "        [-3.42672033e+00,  7.64284207e+00],\n",
       "        [ 1.27831270e+00, -6.29519484e+00],\n",
       "        [-3.16483095e+00,  6.35636403e+00],\n",
       "        [ 1.13910574e-02,  5.46235123e+00],\n",
       "        [-5.41232378e+00, -2.68666494e+00],\n",
       "        [ 4.61164125e-01,  4.69143186e+00],\n",
       "        [-2.41469662e+00,  4.66269862e+00],\n",
       "        [-3.77686363e-01, -5.75177620e+00],\n",
       "        [-6.10691421e+00, -5.98494706e+00],\n",
       "        [-4.87535312e-01,  6.36669314e+00],\n",
       "        [-5.73193316e+00, -1.81425052e+00],\n",
       "        [-4.88797474e+00, -2.96226761e+00],\n",
       "        [-5.91551686e+00, -1.39463278e+00],\n",
       "        [-7.44500073e+00, -1.82470952e+00],\n",
       "        [-3.39008216e+00,  1.09563447e+01],\n",
       "        [ 2.47622860e-01, -5.03543616e+00],\n",
       "        [-3.10260432e+00,  1.09469609e+01],\n",
       "        [-5.15417920e+00, -4.12796457e+00],\n",
       "        [-4.28633194e-01, -4.24947701e+00],\n",
       "        [-4.27501504e+00,  1.08359469e+01],\n",
       "        [ 4.55976021e-02, -4.59883918e+00],\n",
       "        [-5.04804825e+00,  4.27765336e+00],\n",
       "        [-2.40612947e+00,  5.07809235e+00],\n",
       "        [-2.27451380e+00, -1.54186053e+00],\n",
       "        [-1.57744641e-01, -1.15341625e+01],\n",
       "        [-2.19532828e+00,  4.52009408e+00],\n",
       "        [-5.01209756e-01, -3.66534438e+00],\n",
       "        [-2.55093474e+00,  5.07808929e+00],\n",
       "        [-7.89434801e+00, -3.17030594e+00],\n",
       "        [-1.53349447e+00, -5.87137205e+00],\n",
       "        [-3.69177238e+00,  2.87620370e+00],\n",
       "        [-1.31024459e+00,  1.19798893e+01],\n",
       "        [-1.49167744e+00,  7.45001320e+00],\n",
       "        [ 2.24563558e+00, -6.37052906e+00],\n",
       "        [-2.93581723e+00,  4.37099430e+00],\n",
       "        [-2.45885784e+00, -3.47646132e+00],\n",
       "        [-9.37207745e+00, -2.04265047e+00],\n",
       "        [-1.85324174e+00,  1.15343543e+01],\n",
       "        [-4.55544644e-02, -5.77956461e+00],\n",
       "        [-4.81350458e+00, -4.29442383e+00],\n",
       "        [-2.83977728e+00,  1.05836834e+01],\n",
       "        [-3.25189078e+00,  8.58382453e+00],\n",
       "        [-5.78104717e+00, -3.22180679e+00],\n",
       "        [-1.35072701e+00,  4.38388826e+00],\n",
       "        [-2.54760385e+00,  1.23266492e+01],\n",
       "        [-1.83963385e+00,  1.17304073e+01],\n",
       "        [-3.56940146e+00,  3.97719844e+00],\n",
       "        [ 5.19455346e+00, -3.85790517e+00],\n",
       "        [ 1.26866610e+00,  8.69129038e+00],\n",
       "        [-3.63664996e+00,  7.23811254e+00],\n",
       "        [-1.55079863e+00,  8.16118375e+00],\n",
       "        [-1.75136566e+00,  1.01798622e+01],\n",
       "        [ 4.22044090e+00, -7.82455952e+00],\n",
       "        [-1.01845204e+00,  1.08561916e+01],\n",
       "        [-3.09538208e+00,  9.04263837e+00],\n",
       "        [-2.75853245e+00,  5.71712591e+00],\n",
       "        [-1.69955192e+00,  7.60084115e+00],\n",
       "        [ 1.00681205e+00, -5.97364221e+00],\n",
       "        [-3.63618643e+00, -4.01910949e+00],\n",
       "        [ 1.05766953e+00, -2.84354513e+00],\n",
       "        [-5.21005358e-01, -5.36288806e+00],\n",
       "        [ 4.74333018e-01,  2.91649791e+00],\n",
       "        [-1.16095485e+00,  9.30443737e+00],\n",
       "        [ 7.72592657e-01,  3.34757221e+00],\n",
       "        [ 1.15283270e-01, -4.98158692e+00],\n",
       "        [-6.17063348e-01,  1.04101088e+01],\n",
       "        [-2.76847604e+00,  8.52320320e+00],\n",
       "        [-5.25173430e+00, -2.08429857e+00],\n",
       "        [-3.85525653e+00,  9.54219399e+00],\n",
       "        [-8.01851943e-01,  5.95676894e+00],\n",
       "        [-2.36271016e+00,  6.81776964e+00],\n",
       "        [-1.99764975e+00, -3.85128758e+00],\n",
       "        [-6.65130512e+00, -3.92501387e+00],\n",
       "        [-5.57724115e+00,  1.14034957e+01],\n",
       "        [ 1.19709771e+00, -5.35592862e+00],\n",
       "        [-3.25011945e+00,  5.37703143e+00],\n",
       "        [ 1.18033537e+00, -7.97895365e+00],\n",
       "        [-6.91252565e+00, -4.45298216e+00],\n",
       "        [-1.76815267e+00,  9.19196787e+00],\n",
       "        [-6.65058496e+00, -2.11819191e+00],\n",
       "        [-3.70764352e+00,  6.74162691e+00],\n",
       "        [-3.71255665e-01, -4.99321884e+00],\n",
       "        [ 1.12056494e-01, -6.58921181e+00],\n",
       "        [-2.33425004e+00,  7.05562607e+00],\n",
       "        [-6.96784964e-01,  1.00164565e+01],\n",
       "        [-7.67542214e-01, -5.69548201e+00],\n",
       "        [-6.88656858e-01, -9.55180953e+00],\n",
       "        [ 3.19734410e+00, -3.69780369e+00],\n",
       "        [-1.66854762e+00,  4.66869475e+00],\n",
       "        [-3.40729232e-01,  5.72252744e+00],\n",
       "        [-7.63340475e-01, -2.76069256e+00],\n",
       "        [-2.15963524e+00, -7.56230415e+00],\n",
       "        [-5.10916044e+00, -4.59492642e+00],\n",
       "        [-4.57024715e+00, -7.15787278e-01],\n",
       "        [-4.87469044e+00, -2.18916044e+00],\n",
       "        [-1.42220382e+00,  5.20840822e+00],\n",
       "        [ 1.86144971e+00, -9.23586332e+00],\n",
       "        [-4.26446596e-01, -4.87764872e+00],\n",
       "        [-1.35671783e+00, -3.72590953e+00],\n",
       "        [ 9.41731341e-02, -4.05882797e+00],\n",
       "        [-6.95635379e+00, -8.81553313e-01],\n",
       "        [ 1.08172044e+00,  5.81661034e+00],\n",
       "        [ 3.14164337e-02, -5.38350852e+00],\n",
       "        [-2.85096028e+00,  7.51512826e+00],\n",
       "        [-4.36021918e+00, -2.94957772e+00],\n",
       "        [-3.47593712e-01, -4.33384716e+00],\n",
       "        [-2.70720258e+00,  1.05857295e+01],\n",
       "        [-3.77539609e+00,  4.13414806e+00],\n",
       "        [ 1.26381204e+00, -7.84824077e+00],\n",
       "        [-1.44884409e+00,  3.75963327e+00],\n",
       "        [-2.25521451e+00,  5.57096900e+00],\n",
       "        [-3.09117088e+00,  9.37957142e+00],\n",
       "        [-6.36790963e+00, -5.30288810e-02],\n",
       "        [-6.11503859e-01, -3.24108804e+00],\n",
       "        [-6.24195183e+00, -2.19627952e+00],\n",
       "        [-5.34255894e+00,  1.28888667e+01],\n",
       "        [ 1.14391114e+00,  4.35267793e+00],\n",
       "        [ 2.32669251e+00, -7.52917540e+00],\n",
       "        [-2.96275801e+00,  2.59217754e+00],\n",
       "        [-3.02730359e+00,  3.52590749e+00],\n",
       "        [-3.49785697e+00, -8.75045274e-01],\n",
       "        [-5.23835667e-01,  7.48498444e+00],\n",
       "        [ 1.09766760e+00, -4.85679456e+00],\n",
       "        [-1.10000365e+00,  1.10130763e+01],\n",
       "        [-3.98648663e+00, -1.98177808e+00],\n",
       "        [-3.29604652e+00,  6.38490461e+00],\n",
       "        [-3.75526942e+00, -1.56756272e+00],\n",
       "        [-7.10483937e-01,  1.18869578e+01]]),\n",
       " array([2, 0, 3, 3, 1, 0, 2, 0, 0, 1, 1, 2, 1, 1, 1, 3, 2, 2, 1, 1, 1, 3,\n",
       "        2, 2, 2, 3, 2, 1, 3, 2, 2, 1, 1, 0, 0, 1, 1, 1, 3, 3, 2, 1, 3, 3,\n",
       "        0, 0, 2, 3, 3, 2, 0, 1, 3, 2, 3, 3, 0, 1, 1, 3, 0, 0, 2, 0, 0, 2,\n",
       "        0, 3, 2, 2, 0, 1, 2, 0, 3, 3, 1, 3, 3, 0, 1, 3, 1, 1, 1, 1, 2, 0,\n",
       "        2, 1, 0, 2, 0, 3, 3, 1, 0, 3, 0, 3, 1, 0, 3, 2, 3, 0, 3, 1, 1, 2,\n",
       "        0, 1, 2, 2, 1, 3, 2, 2, 3, 0, 2, 2, 2, 2, 0, 2, 2, 3, 2, 0, 1, 0,\n",
       "        0, 3, 2, 3, 0, 2, 2, 1, 2, 3, 2, 1, 1, 2, 0, 3, 0, 1, 2, 1, 3, 0,\n",
       "        0, 3, 2, 0, 0, 0, 3, 3, 1, 0, 1, 1, 1, 3, 0, 0, 0, 0, 1, 3, 0, 2,\n",
       "        1, 0, 2, 3, 0, 3, 3, 2, 1, 0, 1, 2, 3, 0, 3, 3, 1, 3, 0, 2, 1, 3,\n",
       "        1, 2]))"
      ]
     },
     "execution_count": 52,
     "metadata": {},
     "output_type": "execute_result"
    }
   ],
   "source": [
    "data[0], data[1]"
   ]
  },
  {
   "cell_type": "code",
   "execution_count": 53,
   "metadata": {},
   "outputs": [],
   "source": [
    "k = 4\n",
    "kmeans = KMeans(n_clusters=k)"
   ]
  },
  {
   "cell_type": "code",
   "execution_count": 54,
   "metadata": {},
   "outputs": [
    {
     "data": {
      "text/plain": [
       "array([2, 1, 0, 2, 3, 1, 2, 1, 1, 3, 3, 2, 3, 0, 3, 0, 2, 2, 3, 3, 3, 0,\n",
       "       2, 2, 2, 0, 2, 1, 0, 2, 2, 3, 3, 1, 1, 3, 3, 3, 0, 0, 2, 3, 0, 0,\n",
       "       1, 1, 2, 0, 0, 2, 1, 3, 0, 2, 0, 0, 1, 3, 3, 0, 1, 1, 2, 1, 1, 2,\n",
       "       1, 0, 2, 2, 1, 3, 2, 1, 0, 0, 3, 0, 0, 1, 3, 0, 3, 3, 3, 3, 2, 1,\n",
       "       2, 3, 1, 2, 1, 0, 0, 3, 1, 0, 1, 0, 3, 1, 0, 2, 0, 1, 0, 1, 3, 2,\n",
       "       1, 3, 2, 2, 3, 0, 2, 2, 0, 1, 2, 0, 2, 2, 1, 2, 2, 0, 0, 1, 3, 1,\n",
       "       1, 0, 2, 0, 1, 2, 2, 3, 2, 0, 0, 1, 3, 2, 1, 0, 1, 3, 2, 3, 0, 1,\n",
       "       1, 0, 2, 1, 1, 1, 0, 0, 1, 1, 3, 3, 3, 0, 1, 1, 1, 1, 3, 0, 1, 0,\n",
       "       3, 1, 2, 0, 1, 0, 0, 2, 3, 1, 3, 2, 0, 1, 0, 0, 3, 0, 1, 2, 3, 0,\n",
       "       3, 2])"
      ]
     },
     "execution_count": 54,
     "metadata": {},
     "output_type": "execute_result"
    }
   ],
   "source": [
    "y_pred=kmeans.fit_predict(data[0])\n",
    "y_pred"
   ]
  },
  {
   "cell_type": "code",
   "execution_count": 55,
   "metadata": {},
   "outputs": [
    {
     "data": {
      "text/plain": [
       "array([[-1.92101646,  5.21673484],\n",
       "       [ 0.05161133, -5.35489826],\n",
       "       [-2.40167949, 10.17352695],\n",
       "       [-5.56465793, -2.34988939]])"
      ]
     },
     "execution_count": 55,
     "metadata": {},
     "output_type": "execute_result"
    }
   ],
   "source": [
    "kmeans.cluster_centers_"
   ]
  },
  {
   "cell_type": "code",
   "execution_count": 56,
   "metadata": {},
   "outputs": [
    {
     "data": {
      "text/plain": [
       "array([3])"
      ]
     },
     "execution_count": 56,
     "metadata": {},
     "output_type": "execute_result"
    }
   ],
   "source": [
    "#Predict cluster for a new point\n",
    "X_new = np.array([[-6, -3]])\n",
    "kmeans.predict(X_new)"
   ]
  },
  {
   "cell_type": "code",
   "execution_count": 71,
   "metadata": {},
   "outputs": [
    {
     "data": {
      "text/plain": [
       "array([[-1.06705283e+00,  9.24306355e+00],\n",
       "       [ 1.08654318e+00, -6.94815805e+00],\n",
       "       [-2.30970265e+00,  5.84969440e+00],\n",
       "       [-1.59728965e+00,  8.45369045e+00],\n",
       "       [-5.79816711e+00, -3.78405528e+00],\n",
       "       [-2.29833776e+00, -4.66005371e+00],\n",
       "       [-1.68210799e+00,  1.12843423e+01],\n",
       "       [-7.38296450e-01, -5.20135260e+00],\n",
       "       [-1.92048345e-01, -6.45318764e+00],\n",
       "       [-6.37920287e+00, -2.17672355e+00],\n",
       "       [-5.12054803e+00, -2.91449176e+00],\n",
       "       [-4.22297649e+00,  9.04719945e+00],\n",
       "       [-2.67815731e+00, -2.32828819e+00],\n",
       "       [-3.02994109e+00,  1.86959382e+00],\n",
       "       [-5.73938121e+00, -7.25648845e-01],\n",
       "       [-1.99427571e+00,  4.28616868e+00],\n",
       "       [-2.89522086e+00,  1.10222354e+01],\n",
       "       [-1.11286937e+00,  1.03086380e+01],\n",
       "       [-5.19987051e+00, -1.59879364e+00],\n",
       "       [-4.75916597e+00, -1.97047767e+00],\n",
       "       [-6.76865308e+00, -3.56907573e+00],\n",
       "       [-2.65715781e+00,  3.33763714e+00],\n",
       "       [-4.61722463e+00,  1.06373187e+01],\n",
       "       [-1.43729337e+00,  1.12137736e+01],\n",
       "       [-1.98068787e+00,  9.73142838e+00],\n",
       "       [-1.47838268e+00,  4.02156675e+00],\n",
       "       [-3.74580344e+00,  9.15545625e+00],\n",
       "       [-5.51090509e-01, -2.19802594e+00],\n",
       "       [-2.68015629e+00,  5.58489786e+00],\n",
       "       [-1.18697121e-01,  1.04950260e+01],\n",
       "       [ 7.08946126e-02,  1.27161487e+01],\n",
       "       [-6.03097685e+00, -1.01668649e+00],\n",
       "       [-6.43543481e+00,  1.19165025e-01],\n",
       "       [-7.91271326e-01, -5.63231066e+00],\n",
       "       [ 9.02189228e-02, -4.24988128e+00],\n",
       "       [-3.72960397e+00, -2.40552410e+00],\n",
       "       [-5.47201497e+00, -1.29098281e+00],\n",
       "       [-4.50400179e+00, -1.29552557e+00],\n",
       "       [-1.59604970e+00,  7.08952891e+00],\n",
       "       [-2.45285170e+00,  6.35814471e+00],\n",
       "       [-1.02481236e+00,  1.34548122e+01],\n",
       "       [-7.16917808e+00, -3.68305685e+00],\n",
       "       [-2.09444877e+00,  6.60308885e+00],\n",
       "       [-3.08549983e+00,  6.22161479e+00],\n",
       "       [-6.82140576e-01, -4.83269360e+00],\n",
       "       [ 1.64436813e+00, -3.29688399e+00],\n",
       "       [-1.81165386e+00,  9.57286673e+00],\n",
       "       [-1.21769584e-01,  6.51275284e+00],\n",
       "       [-1.65143884e+00,  6.38316168e+00],\n",
       "       [-4.18721798e+00,  8.93800061e+00],\n",
       "       [-1.10703455e+00, -4.83713152e+00],\n",
       "       [-7.62627421e+00, -4.60727232e+00],\n",
       "       [-3.06568887e-01,  5.25844092e+00],\n",
       "       [-1.23581275e+00,  8.35805290e+00],\n",
       "       [-1.85807535e-01,  2.57718893e+00],\n",
       "       [ 7.28797198e-01,  6.06528632e+00],\n",
       "       [-1.70400879e+00, -2.88008464e+00],\n",
       "       [-5.02706384e+00,  7.61298431e-01],\n",
       "       [-6.22443225e+00, -6.57162467e-01],\n",
       "       [-2.90807981e+00,  5.27669491e+00],\n",
       "       [-1.37711368e+00, -5.50047455e+00],\n",
       "       [-5.57986277e-01, -2.70088621e+00],\n",
       "       [-5.68833947e+00,  7.94601173e+00],\n",
       "       [-2.77413056e+00, -5.78872960e+00],\n",
       "       [-1.53159637e+00, -5.42990953e+00],\n",
       "       [-3.22848472e+00,  9.44642918e+00],\n",
       "       [ 9.86777496e-01, -7.30690762e+00],\n",
       "       [-4.42661936e+00,  3.35071015e+00],\n",
       "       [-3.17162516e+00,  1.10347610e+01],\n",
       "       [-4.74516474e+00,  7.89837755e+00],\n",
       "       [ 1.02471465e+00, -4.64795418e+00],\n",
       "       [-6.13566432e+00, -2.93094035e+00],\n",
       "       [-3.42672033e+00,  7.64284207e+00],\n",
       "       [ 1.27831270e+00, -6.29519484e+00],\n",
       "       [-3.16483095e+00,  6.35636403e+00],\n",
       "       [ 1.13910574e-02,  5.46235123e+00],\n",
       "       [-5.41232378e+00, -2.68666494e+00],\n",
       "       [ 4.61164125e-01,  4.69143186e+00],\n",
       "       [-2.41469662e+00,  4.66269862e+00],\n",
       "       [-3.77686363e-01, -5.75177620e+00],\n",
       "       [-6.10691421e+00, -5.98494706e+00],\n",
       "       [-4.87535312e-01,  6.36669314e+00],\n",
       "       [-5.73193316e+00, -1.81425052e+00],\n",
       "       [-4.88797474e+00, -2.96226761e+00],\n",
       "       [-5.91551686e+00, -1.39463278e+00],\n",
       "       [-7.44500073e+00, -1.82470952e+00],\n",
       "       [-3.39008216e+00,  1.09563447e+01],\n",
       "       [ 2.47622860e-01, -5.03543616e+00],\n",
       "       [-3.10260432e+00,  1.09469609e+01],\n",
       "       [-5.15417920e+00, -4.12796457e+00],\n",
       "       [-4.28633194e-01, -4.24947701e+00],\n",
       "       [-4.27501504e+00,  1.08359469e+01],\n",
       "       [ 4.55976021e-02, -4.59883918e+00],\n",
       "       [-5.04804825e+00,  4.27765336e+00],\n",
       "       [-2.40612947e+00,  5.07809235e+00],\n",
       "       [-2.27451380e+00, -1.54186053e+00],\n",
       "       [-1.57744641e-01, -1.15341625e+01],\n",
       "       [-2.19532828e+00,  4.52009408e+00],\n",
       "       [-5.01209756e-01, -3.66534438e+00],\n",
       "       [-2.55093474e+00,  5.07808929e+00],\n",
       "       [-7.89434801e+00, -3.17030594e+00],\n",
       "       [-1.53349447e+00, -5.87137205e+00],\n",
       "       [-3.69177238e+00,  2.87620370e+00],\n",
       "       [-1.31024459e+00,  1.19798893e+01],\n",
       "       [-1.49167744e+00,  7.45001320e+00],\n",
       "       [ 2.24563558e+00, -6.37052906e+00],\n",
       "       [-2.93581723e+00,  4.37099430e+00],\n",
       "       [-2.45885784e+00, -3.47646132e+00],\n",
       "       [-9.37207745e+00, -2.04265047e+00],\n",
       "       [-1.85324174e+00,  1.15343543e+01],\n",
       "       [-4.55544644e-02, -5.77956461e+00],\n",
       "       [-4.81350458e+00, -4.29442383e+00],\n",
       "       [-2.83977728e+00,  1.05836834e+01],\n",
       "       [-3.25189078e+00,  8.58382453e+00],\n",
       "       [-5.78104717e+00, -3.22180679e+00],\n",
       "       [-1.35072701e+00,  4.38388826e+00],\n",
       "       [-2.54760385e+00,  1.23266492e+01],\n",
       "       [-1.83963385e+00,  1.17304073e+01],\n",
       "       [-3.56940146e+00,  3.97719844e+00],\n",
       "       [ 5.19455346e+00, -3.85790517e+00],\n",
       "       [ 1.26866610e+00,  8.69129038e+00],\n",
       "       [-3.63664996e+00,  7.23811254e+00],\n",
       "       [-1.55079863e+00,  8.16118375e+00],\n",
       "       [-1.75136566e+00,  1.01798622e+01],\n",
       "       [ 4.22044090e+00, -7.82455952e+00],\n",
       "       [-1.01845204e+00,  1.08561916e+01],\n",
       "       [-3.09538208e+00,  9.04263837e+00],\n",
       "       [-2.75853245e+00,  5.71712591e+00],\n",
       "       [-1.69955192e+00,  7.60084115e+00],\n",
       "       [ 1.00681205e+00, -5.97364221e+00],\n",
       "       [-3.63618643e+00, -4.01910949e+00],\n",
       "       [ 1.05766953e+00, -2.84354513e+00],\n",
       "       [-5.21005358e-01, -5.36288806e+00],\n",
       "       [ 4.74333018e-01,  2.91649791e+00],\n",
       "       [-1.16095485e+00,  9.30443737e+00],\n",
       "       [ 7.72592657e-01,  3.34757221e+00],\n",
       "       [ 1.15283270e-01, -4.98158692e+00],\n",
       "       [-6.17063348e-01,  1.04101088e+01],\n",
       "       [-2.76847604e+00,  8.52320320e+00],\n",
       "       [-5.25173430e+00, -2.08429857e+00],\n",
       "       [-3.85525653e+00,  9.54219399e+00],\n",
       "       [-8.01851943e-01,  5.95676894e+00],\n",
       "       [-2.36271016e+00,  6.81776964e+00],\n",
       "       [-1.99764975e+00, -3.85128758e+00],\n",
       "       [-6.65130512e+00, -3.92501387e+00],\n",
       "       [-5.57724115e+00,  1.14034957e+01],\n",
       "       [ 1.19709771e+00, -5.35592862e+00],\n",
       "       [-3.25011945e+00,  5.37703143e+00],\n",
       "       [ 1.18033537e+00, -7.97895365e+00],\n",
       "       [-6.91252565e+00, -4.45298216e+00],\n",
       "       [-1.76815267e+00,  9.19196787e+00],\n",
       "       [-6.65058496e+00, -2.11819191e+00],\n",
       "       [-3.70764352e+00,  6.74162691e+00],\n",
       "       [-3.71255665e-01, -4.99321884e+00],\n",
       "       [ 1.12056494e-01, -6.58921181e+00],\n",
       "       [-2.33425004e+00,  7.05562607e+00],\n",
       "       [-6.96784964e-01,  1.00164565e+01],\n",
       "       [-7.67542214e-01, -5.69548201e+00],\n",
       "       [-6.88656858e-01, -9.55180953e+00],\n",
       "       [ 3.19734410e+00, -3.69780369e+00],\n",
       "       [-1.66854762e+00,  4.66869475e+00],\n",
       "       [-3.40729232e-01,  5.72252744e+00],\n",
       "       [-7.63340475e-01, -2.76069256e+00],\n",
       "       [-2.15963524e+00, -7.56230415e+00],\n",
       "       [-5.10916044e+00, -4.59492642e+00],\n",
       "       [-4.57024715e+00, -7.15787278e-01],\n",
       "       [-4.87469044e+00, -2.18916044e+00],\n",
       "       [-1.42220382e+00,  5.20840822e+00],\n",
       "       [ 1.86144971e+00, -9.23586332e+00],\n",
       "       [-4.26446596e-01, -4.87764872e+00],\n",
       "       [-1.35671783e+00, -3.72590953e+00],\n",
       "       [ 9.41731341e-02, -4.05882797e+00],\n",
       "       [-6.95635379e+00, -8.81553313e-01],\n",
       "       [ 1.08172044e+00,  5.81661034e+00],\n",
       "       [ 3.14164337e-02, -5.38350852e+00],\n",
       "       [-2.85096028e+00,  7.51512826e+00],\n",
       "       [-4.36021918e+00, -2.94957772e+00],\n",
       "       [-3.47593712e-01, -4.33384716e+00],\n",
       "       [-2.70720258e+00,  1.05857295e+01],\n",
       "       [-3.77539609e+00,  4.13414806e+00],\n",
       "       [ 1.26381204e+00, -7.84824077e+00],\n",
       "       [-1.44884409e+00,  3.75963327e+00],\n",
       "       [-2.25521451e+00,  5.57096900e+00],\n",
       "       [-3.09117088e+00,  9.37957142e+00],\n",
       "       [-6.36790963e+00, -5.30288810e-02],\n",
       "       [-6.11503859e-01, -3.24108804e+00],\n",
       "       [-6.24195183e+00, -2.19627952e+00],\n",
       "       [-5.34255894e+00,  1.28888667e+01],\n",
       "       [ 1.14391114e+00,  4.35267793e+00],\n",
       "       [ 2.32669251e+00, -7.52917540e+00],\n",
       "       [-2.96275801e+00,  2.59217754e+00],\n",
       "       [-3.02730359e+00,  3.52590749e+00],\n",
       "       [-3.49785697e+00, -8.75045274e-01],\n",
       "       [-5.23835667e-01,  7.48498444e+00],\n",
       "       [ 1.09766760e+00, -4.85679456e+00],\n",
       "       [-1.10000365e+00,  1.10130763e+01],\n",
       "       [-3.98648663e+00, -1.98177808e+00],\n",
       "       [-3.29604652e+00,  6.38490461e+00],\n",
       "       [-3.75526942e+00, -1.56756272e+00],\n",
       "       [-7.10483937e-01,  1.18869578e+01]])"
      ]
     },
     "execution_count": 71,
     "metadata": {},
     "output_type": "execute_result"
    }
   ],
   "source": [
    "data[0]"
   ]
  },
  {
   "cell_type": "markdown",
   "metadata": {},
   "source": [
    "#### Voronoi tesselation\n",
    "- Given a set P := {p1, ..., pn} of sites, a Voronoi Tessellation is a subdivision of the space into n cells, one for each site in P, with the property that a point q lies in the cell corresponding to a site pi iff d(pi, q) < d(pj, q) for i distinct from j.\n",
    "\n",
    "- [For more info](https://philogb.github.io/blog/2010/02/12/voronoi-tessellation/#:~:text=What%20is%20a%20Voronoi%20Tessellation,for%20i%20distinct%20from%20j.)"
   ]
  },
  {
   "cell_type": "code",
   "execution_count": 75,
   "metadata": {},
   "outputs": [
    {
     "data": {
      "image/png": "[encoded data removed]",
      "text/plain": [
       "<Figure size 432x288 with 1 Axes>"
      ]
     },
     "metadata": {
      "needs_background": "light"
     },
     "output_type": "display_data"
    }
   ],
   "source": [
    "points = kmeans.cluster_centers_\n",
    "vor = Voronoi(points)\n",
    "fig = voronoi_plot_2d(vor, show_vertices = False)\n",
    "for region in vor.regions:\n",
    "    if not -1 in region:\n",
    "        polygon = [vor.vertices[i] for i in region]\n",
    "        #plt.fill(*zip(*polygon))\n",
    "plt.show()"
   ]
  },
  {
   "cell_type": "code",
   "execution_count": 76,
   "metadata": {},
   "outputs": [
    {
     "data": {
      "text/plain": [
       "916.3952117958332"
      ]
     },
     "execution_count": 76,
     "metadata": {},
     "output_type": "execute_result"
    }
   ],
   "source": [
    "kmeans.inertia_"
   ]
  },
  {
   "cell_type": "code",
   "execution_count": 77,
   "metadata": {},
   "outputs": [
    {
     "data": {
      "text/plain": [
       "-916.395211795833"
      ]
     },
     "execution_count": 77,
     "metadata": {},
     "output_type": "execute_result"
    }
   ],
   "source": [
    "kmeans.score(data[0])\n",
    "# Predictor's score() must respect 'greater than better' rule. If predictor is better than another, it's score() should return a better score."
   ]
  },
  {
   "cell_type": "markdown",
   "metadata": {},
   "source": [
    "### K-Means++\n",
    "- Has a smarter initialization step that tends to select centroids that are distant from each other.\n",
    "    - This makes KMeans less likely to converge to a suboptimal solution.\n",
    "- Centroid initialization algo:\n",
    "    - Choose $c^{(1)}$ at random from the dataset.\n",
    "    - Pick another centroid $c^{(i)}$ (basically an instance $x^{(1)}$) with probability which is max for the farthest instance from the closest centroid. D($x^{(i)}$) is the distance. This ensures that the instances farther away from already chose centroids are much more likely be selected as centroids.\n",
    "- Repeat this till all k centroids are chosen."
   ]
  },
  {
   "cell_type": "markdown",
   "metadata": {},
   "source": [
    "### Accelerated K-Means and mini-batch K-Means\n",
    "- Use mini-batches instead of the full dataset for K-Means.\n",
    "- Makes it possible to cluster huge datasets which do not fit in memory.\n",
    "- While MB-K-Means is much faster than regular K-Means, it's inertia is generally worse than regular K-Means. "
   ]
  },
  {
   "cell_type": "code",
   "execution_count": 84,
   "metadata": {},
   "outputs": [
    {
     "data": {
      "text/plain": [
       "MiniBatchKMeans(batch_size=100, compute_labels=True, init='k-means++',\n",
       "                init_size=None, max_iter=100, max_no_improvement=10,\n",
       "                n_clusters=4, n_init=3, random_state=None,\n",
       "                reassignment_ratio=0.01, tol=0.0, verbose=0)"
      ]
     },
     "execution_count": 84,
     "metadata": {},
     "output_type": "execute_result"
    }
   ],
   "source": [
    "minibatch_km = MiniBatchKMeans(n_clusters=4)\n",
    "minibatch_km.fit(data[0])"
   ]
  },
  {
   "cell_type": "code",
   "execution_count": 85,
   "metadata": {},
   "outputs": [
    {
     "data": {
      "text/plain": [
       "array([[-5.58953566, -2.34769183],\n",
       "       [-2.42349084, 10.07989451],\n",
       "       [ 0.02727248, -5.40149129],\n",
       "       [-1.91929976,  5.13858354]])"
      ]
     },
     "execution_count": 85,
     "metadata": {},
     "output_type": "execute_result"
    }
   ],
   "source": [
    "minibatch_km.cluster_centers_"
   ]
  },
  {
   "cell_type": "code",
   "execution_count": 89,
   "metadata": {},
   "outputs": [
    {
     "data": {
      "text/plain": [
       "array([3])"
      ]
     },
     "execution_count": 89,
     "metadata": {},
     "output_type": "execute_result"
    }
   ],
   "source": [
    "kmeans.predict([[-5, 0]])"
   ]
  },
  {
   "cell_type": "code",
   "execution_count": 90,
   "metadata": {},
   "outputs": [
    {
     "data": {
      "text/plain": [
       "array([0])"
      ]
     },
     "execution_count": 90,
     "metadata": {},
     "output_type": "execute_result"
    }
   ],
   "source": [
    "minibatch_km.predict([[-5,0]])"
   ]
  },
  {
   "cell_type": "code",
   "execution_count": 88,
   "metadata": {},
   "outputs": [
    {
     "data": {
      "image/png": "[encoded data removed]",
      "text/plain": [
       "<Figure size 432x288 with 1 Axes>"
      ]
     },
     "metadata": {
      "needs_background": "light"
     },
     "output_type": "display_data"
    }
   ],
   "source": [
    "points = minibatch_km.cluster_centers_\n",
    "vor = Voronoi(points)\n",
    "fig = voronoi_plot_2d(vor, show_vertices = False)\n",
    "for region in vor.regions:\n",
    "    if not -1 in region:\n",
    "        polygon = [vor.vertices[i] for i in region]\n",
    "        #plt.fill(*zip(*polygon))\n",
    "plt.show()"
   ]
  },
  {
   "cell_type": "markdown",
   "metadata": {},
   "source": [
    "### Finding the optimal number of clusters\n",
    "- Inertia is not a good performance metric to estimate the number of clusters, because it lowers as we increase k.\n",
    "- The elbow curve.\n",
    "    - Inertia drops very quickly as we increase the value of K to a certain point but past that it decreases slowly. This point would be a good estimate for K.\n",
    "- Silhouette score\n",
    "    - Mean silhouette coeff over all the instances\n",
    "    - **(b-a)/max(a,b)**\n",
    "        - b: mean intra-cluster distance\n",
    "        - a: mean inter-cluster distance\n",
    "    - range of values: -1 <= score <= 1 \n",
    "        - A score close to -1 indicates that the instance has been assigned to the wrong cluster\n",
    "        - A score close to 0 indicates that the instance is close to the cluster boundary.\n",
    "        - A score close to 1 indicates that the instance is well inside it's own cluster and far from other clusters."
   ]
  },
  {
   "cell_type": "code",
   "execution_count": 93,
   "metadata": {},
   "outputs": [
    {
     "data": {
      "text/plain": [
       "array([2, 1, 0, 2, 3, 1, 2, 1, 1, 3, 3, 2, 3, 0, 3, 0, 2, 2, 3, 3, 3, 0,\n",
       "       2, 2, 2, 0, 2, 1, 0, 2, 2, 3, 3, 1, 1, 3, 3, 3, 0, 0, 2, 3, 0, 0,\n",
       "       1, 1, 2, 0, 0, 2, 1, 3, 0, 2, 0, 0, 1, 3, 3, 0, 1, 1, 2, 1, 1, 2,\n",
       "       1, 0, 2, 2, 1, 3, 2, 1, 0, 0, 3, 0, 0, 1, 3, 0, 3, 3, 3, 3, 2, 1,\n",
       "       2, 3, 1, 2, 1, 0, 0, 3, 1, 0, 1, 0, 3, 1, 0, 2, 0, 1, 0, 1, 3, 2,\n",
       "       1, 3, 2, 2, 3, 0, 2, 2, 0, 1, 2, 0, 2, 2, 1, 2, 2, 0, 0, 1, 3, 1,\n",
       "       1, 0, 2, 0, 1, 2, 2, 3, 2, 0, 0, 1, 3, 2, 1, 0, 1, 3, 2, 3, 0, 1,\n",
       "       1, 0, 2, 1, 1, 1, 0, 0, 1, 1, 3, 3, 3, 0, 1, 1, 1, 1, 3, 0, 1, 0,\n",
       "       3, 1, 2, 0, 1, 0, 0, 2, 3, 1, 3, 2, 0, 1, 0, 0, 3, 0, 1, 2, 3, 0,\n",
       "       3, 2])"
      ]
     },
     "execution_count": 93,
     "metadata": {},
     "output_type": "execute_result"
    }
   ],
   "source": [
    "kmeans.labels_"
   ]
  },
  {
   "cell_type": "code",
   "execution_count": 94,
   "metadata": {},
   "outputs": [
    {
     "data": {
      "text/plain": [
       "0.5280677534400237"
      ]
     },
     "execution_count": 94,
     "metadata": {},
     "output_type": "execute_result"
    }
   ],
   "source": [
    "silhouette_score(data[0], kmeans.labels_)"
   ]
  },
  {
   "cell_type": "code",
   "execution_count": 95,
   "metadata": {},
   "outputs": [
    {
     "data": {
      "text/plain": [
       "array([1, 2, 3, 1, 0, 2, 1, 2, 2, 0, 0, 1, 0, 3, 0, 3, 1, 1, 0, 0, 0, 3,\n",
       "       1, 1, 1, 3, 1, 2, 3, 1, 1, 0, 0, 2, 2, 0, 0, 0, 3, 3, 1, 0, 3, 3,\n",
       "       2, 2, 1, 3, 3, 1, 2, 0, 3, 1, 3, 3, 2, 0, 0, 3, 2, 2, 1, 2, 2, 1,\n",
       "       2, 3, 1, 1, 2, 0, 1, 2, 3, 3, 0, 3, 3, 2, 0, 3, 0, 0, 0, 0, 1, 2,\n",
       "       1, 0, 2, 1, 2, 3, 3, 0, 2, 3, 2, 3, 0, 2, 3, 1, 3, 2, 3, 2, 0, 1,\n",
       "       2, 0, 1, 1, 0, 3, 1, 1, 3, 2, 1, 3, 1, 1, 2, 1, 1, 3, 3, 2, 0, 2,\n",
       "       2, 3, 1, 3, 2, 1, 1, 0, 1, 3, 3, 2, 0, 1, 2, 3, 2, 0, 1, 0, 3, 2,\n",
       "       2, 3, 1, 2, 2, 2, 3, 3, 2, 2, 0, 0, 0, 3, 2, 2, 2, 2, 0, 3, 2, 3,\n",
       "       0, 2, 1, 3, 2, 3, 3, 1, 0, 2, 0, 1, 3, 2, 3, 3, 0, 3, 2, 1, 0, 3,\n",
       "       0, 1])"
      ]
     },
     "execution_count": 95,
     "metadata": {},
     "output_type": "execute_result"
    }
   ],
   "source": [
    "minibatch_km.labels_"
   ]
  },
  {
   "cell_type": "code",
   "execution_count": 96,
   "metadata": {},
   "outputs": [
    {
     "data": {
      "text/plain": [
       "0.5280677534400237"
      ]
     },
     "execution_count": 96,
     "metadata": {},
     "output_type": "execute_result"
    }
   ],
   "source": [
    "silhouette_score(data[0], minibatch_km.labels_)"
   ]
  },
  {
   "cell_type": "code",
   "execution_count": 100,
   "metadata": {},
   "outputs": [
    {
     "name": "stdout",
     "output_type": "stream",
     "text": [
      "Cluster: 1\n",
      "Cluster: 2\n",
      "Cluster: 3\n",
      "Cluster: 4\n",
      "Cluster: 5\n",
      "Cluster: 6\n",
      "Cluster: 7\n"
     ]
    }
   ],
   "source": [
    "## Running K-Means for multiple clusters values:\n",
    "kmeans_per_cluster = list()\n",
    "for i in range(1,8):\n",
    "    print('Cluster: '+str(i))\n",
    "    kmeans_per_cluster.append(KMeans(n_clusters=i, random_state=42).fit(data[0]))"
   ]
  },
  {
   "cell_type": "code",
   "execution_count": 103,
   "metadata": {},
   "outputs": [],
   "source": [
    "silhouette_scores = [silhouette_score(data[0], model.labels_)\n",
    "                     for model in kmeans_per_cluster[1:]]"
   ]
  },
  {
   "cell_type": "code",
   "execution_count": 109,
   "metadata": {},
   "outputs": [
    {
     "data": {
      "image/png": "[encoded data removed]",
      "text/plain": [
       "<Figure size 576x216 with 1 Axes>"
      ]
     },
     "metadata": {
      "needs_background": "light"
     },
     "output_type": "display_data"
    }
   ],
   "source": [
    "plt.figure(figsize=(8, 3))\n",
    "plt.plot(range(2, 8), silhouette_scores, \"bo-\")\n",
    "plt.xlabel(\"$k$\", fontsize=14)\n",
    "plt.ylabel(\"Silhouette score\", fontsize=14)\n",
    "plt.show()"
   ]
  },
  {
   "cell_type": "code",
   "execution_count": 115,
   "metadata": {},
   "outputs": [
    {
     "data": {
      "image/png": "[encoded data removed]",
      "text/plain": [
       "<Figure size 792x648 with 4 Axes>"
      ]
     },
     "metadata": {
      "needs_background": "light"
     },
     "output_type": "display_data"
    }
   ],
   "source": [
    "plt.figure(figsize=(11, 9))\n",
    "\n",
    "for k in (2, 3, 4, 5):\n",
    "    plt.subplot(2, 2, k - 1)\n",
    "    \n",
    "    y_pred = kmeans_per_cluster[k - 1].labels_\n",
    "    silhouette_coefficients = silhouette_samples(data[0], y_pred)\n",
    "\n",
    "    padding = len(data[0]) // 30\n",
    "    pos = padding\n",
    "    ticks = []\n",
    "    for i in range(k):\n",
    "        coeffs = silhouette_coefficients[y_pred == i]\n",
    "        coeffs.sort()\n",
    "\n",
    "        color = mpl.cm.Spectral(i / k)\n",
    "        plt.fill_betweenx(np.arange(pos, pos + len(coeffs)), 0, coeffs,\n",
    "                          facecolor=color, edgecolor=color, alpha=0.7)\n",
    "        ticks.append(pos + len(coeffs) // 2)\n",
    "        pos += len(coeffs) + padding\n",
    "\n",
    "    plt.gca().yaxis.set_major_locator(FixedLocator(ticks))\n",
    "    plt.gca().yaxis.set_major_formatter(FixedFormatter(range(k)))\n",
    "    if k in (2, 4):\n",
    "        plt.ylabel(\"Cluster\")\n",
    "    \n",
    "    if k in (4, 5):\n",
    "        plt.gca().set_xticks([-0.1, 0, 0.2, 0.4, 0.6, 0.8, 1])\n",
    "        plt.xlabel(\"Silhouette Coefficient\")\n",
    "    else:\n",
    "        plt.tick_params(labelbottom=False)\n",
    "\n",
    "    plt.axvline(x=silhouette_scores[k - 2], color=\"red\", linestyle=\"--\")\n",
    "    plt.title(\"$k={}$\".format(k), fontsize=16)\n",
    "\n",
    "plt.show()"
   ]
  },
  {
   "cell_type": "markdown",
   "metadata": {},
   "source": [
    "### K-Means limitations\n",
    "- Have to run the algo several times to avoid suboptimal solutions.\n",
    "- Have to specify the number of clusters."
   ]
  },
  {
   "cell_type": "markdown",
   "metadata": {},
   "source": [
    "### Using Clustering for Image Segmentation\n",
    "- Image segmentation is the process of partitioning a digital image into multiple distinct regions containing each pixel(sets of pixels, also known as superpixels) with similar attributes.\n",
    "- Semantic-based, instance-based, color-based."
   ]
  },
  {
   "cell_type": "code",
   "execution_count": 126,
   "metadata": {},
   "outputs": [],
   "source": [
    "og_img = cv2.imread(\"./detect.jpeg\")"
   ]
  },
  {
   "cell_type": "code",
   "execution_count": 134,
   "metadata": {},
   "outputs": [
    {
     "data": {
      "text/plain": [
       "-1"
      ]
     },
     "execution_count": 134,
     "metadata": {},
     "output_type": "execute_result"
    }
   ],
   "source": [
    "cv2.imshow(winname='Image', mat=og_img)\n",
    "cv2.waitKey()"
   ]
  },
  {
   "cell_type": "code",
   "execution_count": 129,
   "metadata": {},
   "outputs": [],
   "source": [
    "img=cv2.cvtColor(og_img,cv2.COLOR_BGR2RGB)"
   ]
  },
  {
   "cell_type": "code",
   "execution_count": 131,
   "metadata": {},
   "outputs": [],
   "source": [
    "# reshape the image to a 2D array of pixels and 3 color values (RGB)\n",
    "pixel_values = img.reshape((-1, 3))\n",
    "# convert to float\n",
    "pixel_values = np.float32(pixel_values)"
   ]
  },
  {
   "cell_type": "code",
   "execution_count": 132,
   "metadata": {},
   "outputs": [
    {
     "name": "stdout",
     "output_type": "stream",
     "text": [
      "(573125, 3)\n"
     ]
    }
   ],
   "source": [
    "print(pixel_values.shape)"
   ]
  },
  {
   "cell_type": "code",
   "execution_count": 133,
   "metadata": {},
   "outputs": [],
   "source": [
    "# define stopping criteria\n",
    "criteria = (cv2.TERM_CRITERIA_EPS + cv2.TERM_CRITERIA_MAX_ITER, 100, 0.2)"
   ]
  },
  {
   "cell_type": "code",
   "execution_count": 145,
   "metadata": {},
   "outputs": [],
   "source": [
    "# number of clusters (K)\n",
    "k = 2\n",
    "_, labels2, (centers2) = cv2.kmeans(pixel_values, k, None, criteria, 10, cv2.KMEANS_RANDOM_CENTERS)\n",
    "\n",
    "k = 3\n",
    "_, labels3, (centers3) = cv2.kmeans(pixel_values, k, None, criteria, 10, cv2.KMEANS_RANDOM_CENTERS)\n",
    "\n",
    "k = 4\n",
    "_, labels4, (centers4) = cv2.kmeans(pixel_values, k, None, criteria, 10, cv2.KMEANS_RANDOM_CENTERS)\n",
    "\n",
    "k = 5\n",
    "_, labels5, (centers5) = cv2.kmeans(pixel_values, k, None, criteria, 10, cv2.KMEANS_RANDOM_CENTERS)"
   ]
  },
  {
   "cell_type": "code",
   "execution_count": 146,
   "metadata": {},
   "outputs": [],
   "source": [
    "def create_image(labels, centers):\n",
    "    # convert back to 8 bit values\n",
    "    centers = np.uint8(centers)\n",
    "    # flatten the labels array\n",
    "    labels = labels.flatten()\n",
    "    # convert all pixels to the color of the centroids\n",
    "    segmented_image = centers[labels.flatten()]\n",
    "    # reshape back to the original image dimension\n",
    "    segmented_image = segmented_image.reshape(img.shape)\n",
    "    # show the image\n",
    "    plt.imshow(segmented_image)\n",
    "    plt.show()"
   ]
  },
  {
   "cell_type": "code",
   "execution_count": 147,
   "metadata": {},
   "outputs": [
    {
     "data": {
      "image/png": "[encoded data removed]",
      "text/plain": [
       "<Figure size 432x288 with 1 Axes>"
      ]
     },
     "metadata": {
      "needs_background": "light"
     },
     "output_type": "display_data"
    }
   ],
   "source": [
    "create_image(labels2, centers2)"
   ]
  },
  {
   "cell_type": "code",
   "execution_count": 148,
   "metadata": {},
   "outputs": [
    {
     "data": {
      "image/png": "[encoded data removed]",
      "text/plain": [
       "<Figure size 432x288 with 1 Axes>"
      ]
     },
     "metadata": {
      "needs_background": "light"
     },
     "output_type": "display_data"
    }
   ],
   "source": [
    "create_image(labels3, centers3)"
   ]
  },
  {
   "cell_type": "code",
   "execution_count": 149,
   "metadata": {},
   "outputs": [
    {
     "data": {
      "image/png": "[encoded data removed]",
      "text/plain": [
       "<Figure size 432x288 with 1 Axes>"
      ]
     },
     "metadata": {
      "needs_background": "light"
     },
     "output_type": "display_data"
    }
   ],
   "source": [
    "create_image(labels4, centers4)"
   ]
  },
  {
   "cell_type": "code",
   "execution_count": 150,
   "metadata": {},
   "outputs": [
    {
     "data": {
      "image/png": "[encoded data removed]",
      "text/plain": [
       "<Figure size 432x288 with 1 Axes>"
      ]
     },
     "metadata": {
      "needs_background": "light"
     },
     "output_type": "display_data"
    }
   ],
   "source": [
    "create_image(labels5, centers5)"
   ]
  },
  {
   "cell_type": "markdown",
   "metadata": {},
   "source": [
    "### Using Clustering for Preprocessing"
   ]
  },
  {
   "cell_type": "code",
   "execution_count": 152,
   "metadata": {},
   "outputs": [],
   "source": [
    "X_digits, y_digits = load_digits(return_X_y=True)\n",
    "X_train, X_test, y_train, y_test = train_test_split(X_digits, y_digits)"
   ]
  },
  {
   "cell_type": "markdown",
   "metadata": {},
   "source": [
    "#### Without Preprocessing"
   ]
  },
  {
   "cell_type": "code",
   "execution_count": 154,
   "metadata": {},
   "outputs": [
    {
     "name": "stderr",
     "output_type": "stream",
     "text": [
      "C:\\Users\\aiyer\\Anaconda3\\lib\\site-packages\\sklearn\\linear_model\\_logistic.py:940: ConvergenceWarning: lbfgs failed to converge (status=1):\n",
      "STOP: TOTAL NO. of ITERATIONS REACHED LIMIT.\n",
      "\n",
      "Increase the number of iterations (max_iter) or scale the data as shown in:\n",
      "    https://scikit-learn.org/stable/modules/preprocessing.html\n",
      "Please also refer to the documentation for alternative solver options:\n",
      "    https://scikit-learn.org/stable/modules/linear_model.html#logistic-regression\n",
      "  extra_warning_msg=_LOGISTIC_SOLVER_CONVERGENCE_MSG)\n"
     ]
    },
    {
     "data": {
      "text/plain": [
       "LogisticRegression(C=1.0, class_weight=None, dual=False, fit_intercept=True,\n",
       "                   intercept_scaling=1, l1_ratio=None, max_iter=100,\n",
       "                   multi_class='auto', n_jobs=None, penalty='l2',\n",
       "                   random_state=None, solver='lbfgs', tol=0.0001, verbose=0,\n",
       "                   warm_start=False)"
      ]
     },
     "execution_count": 154,
     "metadata": {},
     "output_type": "execute_result"
    }
   ],
   "source": [
    "log_reg = LogisticRegression()\n",
    "log_reg.fit(X_train, y_train)"
   ]
  },
  {
   "cell_type": "code",
   "execution_count": 155,
   "metadata": {},
   "outputs": [
    {
     "data": {
      "text/plain": [
       "0.9666666666666667"
      ]
     },
     "execution_count": 155,
     "metadata": {},
     "output_type": "execute_result"
    }
   ],
   "source": [
    "log_reg.score(X_test, y_test)"
   ]
  },
  {
   "cell_type": "markdown",
   "metadata": {},
   "source": [
    "#### Using K-Means for preprocessing"
   ]
  },
  {
   "cell_type": "code",
   "execution_count": 168,
   "metadata": {},
   "outputs": [],
   "source": [
    "pipeline = Pipeline([\n",
    "    ('kmeans', KMeans(n_clusters=50, random_state=42)),\n",
    "    ('log_reg', LogisticRegression(multi_class=\"ovr\", solver=\"lbfgs\", max_iter=5000, random_state=42))\n",
    "])\n",
    "parameters = {\n",
    "    'kmeans__n_clusters':range(2,100)\n",
    "}\n",
    "grid_clf = GridSearchCV(pipeline, parameters, cv=3, verbose=2, n_jobs=-1)"
   ]
  },
  {
   "cell_type": "code",
   "execution_count": 169,
   "metadata": {},
   "outputs": [
    {
     "name": "stdout",
     "output_type": "stream",
     "text": [
      "Fitting 3 folds for each of 98 candidates, totalling 294 fits\n"
     ]
    },
    {
     "name": "stderr",
     "output_type": "stream",
     "text": [
      "[Parallel(n_jobs=-1)]: Using backend LokyBackend with 12 concurrent workers.\n",
      "[Parallel(n_jobs=-1)]: Done  17 tasks      | elapsed:    2.5s\n",
      "[Parallel(n_jobs=-1)]: Done 138 tasks      | elapsed:  1.1min\n",
      "[Parallel(n_jobs=-1)]: Done 294 out of 294 | elapsed:  3.4min finished\n"
     ]
    },
    {
     "data": {
      "text/plain": [
       "GridSearchCV(cv=3, error_score=nan,\n",
       "             estimator=Pipeline(memory=None,\n",
       "                                steps=[('kmeans',\n",
       "                                        KMeans(algorithm='auto', copy_x=True,\n",
       "                                               init='k-means++', max_iter=300,\n",
       "                                               n_clusters=50, n_init=10,\n",
       "                                               n_jobs=None,\n",
       "                                               precompute_distances='auto',\n",
       "                                               random_state=42, tol=0.0001,\n",
       "                                               verbose=0)),\n",
       "                                       ('log_reg',\n",
       "                                        LogisticRegression(C=1.0,\n",
       "                                                           class_weight=None,\n",
       "                                                           dual=False,\n",
       "                                                           fit_intercept=True,\n",
       "                                                           intercept_scaling=1,\n",
       "                                                           l1_ratio=None,\n",
       "                                                           max_iter=5000,\n",
       "                                                           multi_class='ovr',\n",
       "                                                           n_jobs=None,\n",
       "                                                           penalty='l2',\n",
       "                                                           random_state=42,\n",
       "                                                           solver='lbfgs',\n",
       "                                                           tol=0.0001,\n",
       "                                                           verbose=0,\n",
       "                                                           warm_start=False))],\n",
       "                                verbose=False),\n",
       "             iid='deprecated', n_jobs=-1,\n",
       "             param_grid={'kmeans__n_clusters': range(2, 100)},\n",
       "             pre_dispatch='2*n_jobs', refit=True, return_train_score=False,\n",
       "             scoring=None, verbose=2)"
      ]
     },
     "execution_count": 169,
     "metadata": {},
     "output_type": "execute_result"
    }
   ],
   "source": [
    "grid_clf.fit(X_train, y_train)"
   ]
  },
  {
   "cell_type": "code",
   "execution_count": 170,
   "metadata": {},
   "outputs": [
    {
     "data": {
      "text/plain": [
       "{'kmeans__n_clusters': 85}"
      ]
     },
     "execution_count": 170,
     "metadata": {},
     "output_type": "execute_result"
    }
   ],
   "source": [
    "grid_clf.best_params_"
   ]
  },
  {
   "cell_type": "code",
   "execution_count": 171,
   "metadata": {},
   "outputs": [
    {
     "data": {
      "text/plain": [
       "0.9755555555555555"
      ]
     },
     "execution_count": 171,
     "metadata": {},
     "output_type": "execute_result"
    }
   ],
   "source": [
    "grid_clf.score(X_test, y_test)"
   ]
  },
  {
   "cell_type": "markdown",
   "metadata": {},
   "source": [
    "### Active Learning\n",
    "- Expert interacts with the learning algorithm, providing labels for specific instances when the algorithm requests them.\n",
    "- Uncertainity sampling:\n",
    "    - Train the model on the labeled instances and then use this model to predict the unlabeled instances.\n",
    "    - Instances on which the model is the most uncertain(lowest estimated probability) is given to the expert to be labeled.\n",
    "    - Iterate till performance improvement is neglible in comparison to the labeling effort. "
   ]
  },
  {
   "cell_type": "markdown",
   "metadata": {},
   "source": [
    "### DBSCAN\n",
    "- Density-based spatial clustering of applications with noise\n",
    "- $\\varepsilon$ (Epsilon) neigborhood is established.\n",
    "- For each instance, algo counts the number of instances which are within $\\varepsilon$ distance from that instance. This region is called the instance's $\\varepsilon$- neighborhood.\n",
    "- If the instance has atleast a min no of samples within the neighborhood then this instance becomes a core instance. Core instances are located in dense regions.\n",
    "- All instances in the neighborhood of a core instance belong to the same cluster\n",
    "- Anomalies don't lie in such clusters and are not core instances.\n",
    "- This algo is robust to outliers and has only 2 hyperparams ($\\varepsilon$ and min_samples).\n",
    "- O(m log m) complexity."
   ]
  },
  {
   "cell_type": "code",
   "execution_count": 2,
   "metadata": {},
   "outputs": [
    {
     "data": {
      "text/plain": [
       "DBSCAN(algorithm='auto', eps=0.05, leaf_size=30, metric='euclidean',\n",
       "       metric_params=None, min_samples=5, n_jobs=None, p=None)"
      ]
     },
     "execution_count": 2,
     "metadata": {},
     "output_type": "execute_result"
    }
   ],
   "source": [
    "X, y = make_moons(n_samples=1000, noise=0.05, random_state=42)\n",
    "dbscan = DBSCAN(eps=0.05, min_samples=5) #epsilon neighborhood and min_samples specified\n",
    "dbscan.fit(X)"
   ]
  },
  {
   "cell_type": "code",
   "execution_count": 4,
   "metadata": {},
   "outputs": [
    {
     "data": {
      "text/plain": [
       "array([ 0,  2, -1, -1,  1,  0,  0,  0,  2,  5,  2,  3,  0,  2,  2,  2,  4,\n",
       "        2,  2,  4,  0,  5,  1,  0,  5,  5,  3,  2,  2,  2,  4,  5,  0,  6,\n",
       "        1, -1,  0,  0,  2,  3, -1,  3,  4, -1,  4,  4,  2,  0,  6,  2,  0,\n",
       "        2,  4,  0,  3,  3,  0,  3,  5,  2, -1,  3,  0,  5,  0,  0,  0,  2,\n",
       "        3,  0,  3,  6,  0,  2,  4,  4,  0,  3,  0,  4,  0,  3, -1,  3,  4,\n",
       "        0, -1,  2,  2,  4,  1,  6,  0,  5,  2,  6,  2,  3,  3, -1,  2, -1,\n",
       "        2,  4,  0,  0,  0,  2,  5,  2,  0,  2, -1,  2,  3,  1,  5,  2,  0,\n",
       "        4,  2,  1,  2,  4,  4,  0,  0,  6,  2,  2,  0,  2, -1,  2,  0,  3,\n",
       "        3,  5, -1,  3,  3,  5,  2,  4,  2,  2,  2,  4,  2,  4,  0, -1,  2,\n",
       "        1,  2,  6,  4,  2,  3,  2, -1,  2,  0,  0,  2,  0,  4,  0,  4,  4,\n",
       "        1,  6,  3,  2,  6,  1,  4,  4,  2,  0,  6,  0,  1,  0,  2,  5,  1,\n",
       "        1,  2,  2,  2,  2,  0,  5,  5,  1,  4,  5,  0,  3,  3,  0,  0,  0,\n",
       "        2,  0,  5,  2, -1,  2,  3,  5,  2,  2,  0,  4,  0,  4,  2,  2,  4,\n",
       "        2,  2,  3,  2,  3,  0,  1,  2,  0,  4, -1,  6,  0,  3,  3,  5, -1,\n",
       "        5,  4,  3,  5,  0,  2, -1,  3,  6,  3,  3,  4,  3,  2,  2,  2,  1,\n",
       "        4,  0,  2,  2, -1,  2,  6,  3,  4,  4,  2,  2,  1,  0,  1,  6,  3,\n",
       "        2,  4,  0,  3,  5,  0,  3,  2,  0,  2,  5,  4,  5,  2, -1,  6,  5,\n",
       "        2,  2,  2,  0,  6,  1,  6,  2,  1,  3,  5,  0,  1, -1,  1,  2,  2,\n",
       "        4, -1,  2,  0,  0,  0,  0,  2,  6,  6, -1,  1,  2,  5,  3,  5,  4,\n",
       "        0,  2,  0, -1,  6,  2,  3,  2,  4,  2,  0, -1,  4, -1,  0, -1,  0,\n",
       "        6,  1,  5,  3,  1,  1,  0,  2,  3,  2, -1,  4,  2,  3,  4,  5,  4,\n",
       "       -1,  4, -1,  1,  0,  5,  6,  5,  3,  2,  5,  1, -1,  5,  2,  5,  5,\n",
       "        3,  2,  6,  3,  2,  2,  5,  5,  2,  5,  5,  2, -1,  3,  2,  2,  5,\n",
       "        3,  0,  3,  0,  3,  1,  6,  2,  2,  3,  6,  0,  0,  0,  0,  2, -1,\n",
       "        3,  0, -1,  2,  2,  4,  2,  2,  0,  2,  0,  6,  3,  2,  6,  0,  6,\n",
       "        1,  3,  3,  0,  4,  4,  1,  4,  6,  4,  3,  5,  1,  2, -1,  5,  0,\n",
       "        2,  0,  0,  0,  0,  5,  0,  0,  0,  2,  1,  5,  5,  0,  2,  0,  1,\n",
       "        1,  3,  3,  0,  2,  1,  3,  3,  1,  0,  6,  1,  3,  2,  3,  4,  2,\n",
       "        2,  2,  0,  0,  0,  3, -1,  1,  0,  3,  3,  4,  5,  6, -1,  0,  2,\n",
       "        3,  6,  5,  6,  1,  2,  2,  0,  5,  1,  2,  2,  2,  0,  1,  2,  2,\n",
       "        4,  0,  4,  3,  4,  2,  5, -1,  2,  3,  1,  0, -1,  4,  1,  0,  2,\n",
       "       -1,  0,  3,  0,  3,  0,  4,  2,  6,  5,  3,  2,  6,  5,  4,  5, -1,\n",
       "        3,  2,  0,  2,  0,  3,  3,  6,  0,  3,  2,  2,  1,  4,  3,  1,  5,\n",
       "       -1,  2,  2,  4,  6,  0,  4,  4,  2,  5,  3,  2,  3,  4,  2,  5,  6,\n",
       "        1,  0,  4,  3, -1,  2,  2,  1,  0, -1,  3,  5,  4,  2,  0,  2,  2,\n",
       "        5,  4,  0,  0,  2,  3,  3,  4,  4,  0,  2,  5,  3,  0, -1,  5,  4,\n",
       "       -1,  2,  2,  0,  2,  0, -1, -1,  2, -1, -1,  5,  3,  0,  3,  2,  2,\n",
       "        0,  2,  6,  4,  2,  2,  5,  3,  2,  6,  2,  1,  5,  3,  2,  1,  6,\n",
       "        2,  2,  2,  2,  5,  2,  2,  0, -1,  2,  0,  2,  5,  2, -1,  2,  2,\n",
       "        2,  3,  4,  0,  3,  1, -1,  2,  0,  2,  0, -1,  3,  5,  1,  2,  5,\n",
       "        0,  2,  2,  3,  2,  3,  6, -1,  4,  4,  2,  0,  0, -1,  2,  4,  0,\n",
       "        4,  1,  5,  2, -1, -1,  0,  2,  6,  5,  3,  2,  2,  2,  0,  1,  6,\n",
       "        4,  5,  3,  2,  0,  5, -1,  5,  0,  4,  4,  1,  3,  5,  5,  6,  4,\n",
       "        1,  2,  2,  2,  2,  2,  3,  0,  1,  2,  2,  2,  2,  5,  0,  2,  2,\n",
       "        2,  2,  0,  2,  2,  1,  2,  0,  4,  2,  6,  6,  3,  0,  4,  2, -1,\n",
       "        0,  1,  2,  2,  5,  2,  0,  4,  0,  1,  2,  0,  1, -1, -1,  0,  0,\n",
       "        4,  1,  1,  5,  2,  2,  6,  4, -1,  0,  2,  2,  2,  0,  2,  2,  0,\n",
       "        2,  0,  2,  0,  2,  3,  4,  0,  5,  0,  3,  0,  5,  0,  2,  2,  2,\n",
       "        2,  2,  3,  0,  4,  2,  0,  0,  6,  0,  2,  5,  1,  2,  1,  2,  2,\n",
       "        5, -1,  2,  0,  2,  0,  2,  0,  2,  0,  3, -1,  2,  0,  1,  0,  3,\n",
       "        3,  2,  2,  5,  5,  3,  2,  5,  6, -1,  1,  4,  1,  0,  1,  0,  6,\n",
       "        3,  3,  6,  0,  3,  2,  0,  2, -1,  3,  2,  3,  5,  3,  6,  1,  5,\n",
       "        2,  5,  2,  3,  2,  4,  2,  2,  2,  4,  0,  4,  2,  6,  6,  2, -1,\n",
       "        2,  4,  5,  5,  0,  2,  1,  0,  6,  2,  2,  3,  0,  1, -1,  2,  2,\n",
       "        0,  3,  5,  3,  2,  0,  1,  6,  1, -1,  4,  2,  0,  4,  2,  4,  3,\n",
       "        4, -1,  1,  4,  5,  2,  2,  0,  2,  6,  2,  0,  2,  4,  0,  2,  0,\n",
       "        0,  5,  2, -1,  6, -1,  0,  3,  6,  0,  2,  2,  4,  3,  4,  6,  5,\n",
       "        4,  2,  5,  1, -1,  1,  6,  4,  2,  4,  0,  5,  0,  2,  3,  1,  3,\n",
       "        6,  4,  5, -1,  3, -1,  3,  2,  3,  3,  4,  2,  6,  3],\n",
       "      dtype=int64)"
      ]
     },
     "execution_count": 4,
     "metadata": {},
     "output_type": "execute_result"
    }
   ],
   "source": [
    "dbscan.labels_ #-1 label is treated as anomaly by algo."
   ]
  },
  {
   "cell_type": "code",
   "execution_count": 7,
   "metadata": {},
   "outputs": [
    {
     "name": "stdout",
     "output_type": "stream",
     "text": [
      "808\n",
      "[[-0.02137124  0.40618608]\n",
      " [-0.84192557  0.53058695]\n",
      " [ 0.58930337 -0.32137599]\n",
      " ...\n",
      " [ 1.66258462 -0.3079193 ]\n",
      " [-0.94355873  0.3278936 ]\n",
      " [ 0.79419406  0.60777171]]\n"
     ]
    }
   ],
   "source": [
    "print(len(dbscan.core_sample_indices_))\n",
    "print(dbscan.components_)"
   ]
  },
  {
   "cell_type": "code",
   "execution_count": 8,
   "metadata": {},
   "outputs": [
    {
     "data": {
      "text/plain": [
       "DBSCAN(algorithm='auto', eps=0.2, leaf_size=30, metric='euclidean',\n",
       "       metric_params=None, min_samples=5, n_jobs=None, p=None)"
      ]
     },
     "execution_count": 8,
     "metadata": {},
     "output_type": "execute_result"
    }
   ],
   "source": [
    "dbscan_new = DBSCAN(eps=0.2, min_samples=5) #epsilon neighborhood and min_samples specified\n",
    "dbscan_new.fit(X)"
   ]
  },
  {
   "cell_type": "code",
   "execution_count": 12,
   "metadata": {},
   "outputs": [],
   "source": [
    "# Visualization from Geron's jupyter notebook.\n",
    "def plot_dbscan(dbscan, X, size, show_xlabels=True, show_ylabels=True):\n",
    "    core_mask = np.zeros_like(dbscan.labels_, dtype=bool)\n",
    "    core_mask[dbscan.core_sample_indices_] = True\n",
    "    anomalies_mask = dbscan.labels_ == -1\n",
    "    non_core_mask = ~(core_mask | anomalies_mask)\n",
    "\n",
    "    cores = dbscan.components_\n",
    "    anomalies = X[anomalies_mask]\n",
    "    non_cores = X[non_core_mask]\n",
    "    \n",
    "    plt.scatter(cores[:, 0], cores[:, 1],\n",
    "                c=dbscan.labels_[core_mask], marker='o', s=size, cmap=\"Paired\")\n",
    "    plt.scatter(cores[:, 0], cores[:, 1], marker='*', s=20, c=dbscan.labels_[core_mask])\n",
    "    plt.scatter(anomalies[:, 0], anomalies[:, 1],\n",
    "                c=\"r\", marker=\"x\", s=100)\n",
    "    plt.scatter(non_cores[:, 0], non_cores[:, 1], c=dbscan.labels_[non_core_mask], marker=\".\")\n",
    "    if show_xlabels:\n",
    "        plt.xlabel(\"$x_1$\", fontsize=14)\n",
    "    else:\n",
    "        plt.tick_params(labelbottom=False)\n",
    "    if show_ylabels:\n",
    "        plt.ylabel(\"$x_2$\", fontsize=14, rotation=0)\n",
    "    else:\n",
    "        plt.tick_params(labelleft=False)\n",
    "    plt.title(\"eps={:.2f}, min_samples={}\".format(dbscan.eps, dbscan.min_samples), fontsize=14)"
   ]
  },
  {
   "cell_type": "code",
   "execution_count": 13,
   "metadata": {},
   "outputs": [
    {
     "data": {
      "image/png": "[encoded data removed]",
      "text/plain": [
       "<Figure size 648x230.4 with 2 Axes>"
      ]
     },
     "metadata": {
      "needs_background": "light"
     },
     "output_type": "display_data"
    }
   ],
   "source": [
    "plt.figure(figsize=(9, 3.2))\n",
    "\n",
    "plt.subplot(121)\n",
    "plot_dbscan(dbscan, X, size=100)\n",
    "\n",
    "plt.subplot(122)\n",
    "plot_dbscan(dbscan_new, X, size=600, show_ylabels=False)\n",
    "\n",
    "plt.show()"
   ]
  },
  {
   "cell_type": "markdown",
   "metadata": {},
   "source": [
    "## Other Clustering Algos"
   ]
  },
  {
   "cell_type": "markdown",
   "metadata": {},
   "source": [
    "### Agglomerative Clustering:\n"
   ]
  }
 ],
 "metadata": {
  "kernelspec": {
   "display_name": "Python 3",
   "language": "python",
   "name": "python3"
  },
  "language_info": {
   "codemirror_mode": {
    "name": "ipython",
    "version": 3
   },
   "file_extension": ".py",
   "mimetype": "text/x-python",
   "name": "python",
   "nbconvert_exporter": "python",
   "pygments_lexer": "ipython3",
   "version": "3.7.6"
  }
 },
 "nbformat": 4,
 "nbformat_minor": 4
}
