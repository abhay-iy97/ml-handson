{
 "cells": [
  {
   "cell_type": "code",
   "execution_count": null,
   "metadata": {},
   "outputs": [],
   "source": [
    "from sklearn.datasets import load_iris\n",
    "from sklearn.tree import DecisionTreeClassifier\n",
    "from sklearn.tree import export_graphviz"
   ]
  },
  {
   "cell_type": "code",
   "execution_count": null,
   "metadata": {},
   "outputs": [],
   "source": []
  },
  {
   "cell_type": "code",
   "execution_count": null,
   "metadata": {},
   "outputs": [],
   "source": []
  },
  {
   "cell_type": "markdown",
   "metadata": {},
   "source": [
    "### Decision trees\n",
    "- Need little data preparation\n",
    "    - Feature scaling and centering not needed in most cases.\n",
    "- Node attributes:\n",
    "    - samples: counts how many training instances it applies to. \n",
    "    - value: counts how many training instances of each class it applies to.\n",
    "    - gini: measures impurity. \n",
    "        - A node is pure (gini = 0) if all training instances it applies to belong to the same class.\n",
    "        - Scikit-learn uses the CART algo. which produces only binary trees. (i.e yes/no answers)\n",
    "        - ID3 can produce Decision trees with nodes that have more than 2 children.\n",
    "- Decision trees a.k.a white box models\n",
    "    - Random forests and NNs are black box models"
   ]
  },
  {
   "cell_type": "markdown",
   "metadata": {},
   "source": [
    "### CART Algo\n",
    "- Greedy algo. Finding optimal tree is an NP complete problem.\n",
    "- Split training set into 2 subsets based on a feature (k) and a threshold ($t_{k}$)\n",
    "- Tries to minimize the cost function to get optimal k and $t_{k}$. Done based on which k and $t_{k}$ give the purest subsets.\n",
    "- After splitting training set into 2 subsets, it repeats the process recursively till:\n",
    "    - It hits max depth\n",
    "    - No improvement possible (i.e can 't find split which improves impurity)"
   ]
  },
  {
   "cell_type": "markdown",
   "metadata": {},
   "source": [
    "### Computational Complexity\n",
    "- Prediction complexity: O($log_{2}$(m))\n",
    "- Training complexity: O(n * m$log_{2}$(m))"
   ]
  },
  {
   "cell_type": "markdown",
   "metadata": {},
   "source": [
    "### Entropy\n",
    "- Measure of impurity\n",
    "- Entropy vs Gini Impurity\n",
    "    - Don't differ a lot typically.\n",
    "    - GI is quicker to compute b/c entropy uses log to compute\n",
    "    - When they differ: ?"
   ]
  },
  {
   "cell_type": "markdown",
   "metadata": {},
   "source": [
    "### Regularization Hyperparameters\n",
    "- Decision Trees are non-parametric models i.e parameters are not decide prior to training and makes it susceptible to overfitting.\n",
    "- Linear models are parametric models\n",
    "- Use regularization hyperparameters to restrict DT's freedom during training. Ex: max_depth, min_* "
   ]
  },
  {
   "cell_type": "markdown",
   "metadata": {},
   "source": [
    "### Regression using Decision Trees\n",
    "- Predicted value is the average target value of the instances which satisfy a given node's condition.\n",
    "- In the case of regression, CART algo will try to minimize the MSE while splitting the dataset into 2 subsets instead of basing this decision on impurity."
   ]
  },
  {
   "cell_type": "markdown",
   "metadata": {},
   "source": [
    "### Limitations\n",
    "- Sensitive to training set rotation because of it's affinity for orthogonal boundaries\n",
    "    - Can be mitigated via PCA - often results in better orientation of the training data"
   ]
  },
  {
   "cell_type": "code",
   "execution_count": null,
   "metadata": {},
   "outputs": [],
   "source": []
  }
 ],
 "metadata": {
  "kernelspec": {
   "display_name": "Python 3",
   "language": "python",
   "name": "python3"
  },
  "language_info": {
   "codemirror_mode": {
    "name": "ipython",
    "version": 3
   },
   "file_extension": ".py",
   "mimetype": "text/x-python",
   "name": "python",
   "nbconvert_exporter": "python",
   "pygments_lexer": "ipython3",
   "version": "3.7.6"
  }
 },
 "nbformat": 4,
 "nbformat_minor": 4
}
